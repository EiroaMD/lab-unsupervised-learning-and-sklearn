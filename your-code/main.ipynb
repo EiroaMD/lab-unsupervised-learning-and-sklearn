{
 "cells": [
  {
   "cell_type": "markdown",
   "metadata": {},
   "source": [
    "# Before your start:\n",
    "- Read the README.md file\n",
    "- Comment as much as you can and use the resources in the README.md file\n",
    "- Happy learning!\n"
   ]
  },
  {
   "cell_type": "code",
   "execution_count": 1,
   "metadata": {
    "ExecuteTime": {
     "end_time": "2019-10-29T19:08:12.512474Z",
     "start_time": "2019-10-29T19:08:11.884433Z"
    }
   },
   "outputs": [
    {
     "data": {
      "text/html": [
       "<style>.container { width:100% !important; }</style>"
      ],
      "text/plain": [
       "<IPython.core.display.HTML object>"
      ]
     },
     "metadata": {},
     "output_type": "display_data"
    }
   ],
   "source": [
    "# Basic pandas and numpy\n",
    "import pandas as pd\n",
    "import numpy as np\n",
    " \n",
    "# Basic visualization tools\n",
    "import seaborn as sns\n",
    "import matplotlib.pyplot as plt\n",
    "%matplotlib inline\n",
    " \n",
    "# Pandas defaults\n",
    "pd.options.display.max_columns = 500\n",
    "pd.options.display.max_rows = 500\n",
    " \n",
    "# Make jupyter bigger\n",
    "from IPython.core.display import display, HTML\n",
    "display(HTML('<style>.container { width:100% !important; }</style>'))"
   ]
  },
  {
   "cell_type": "markdown",
   "metadata": {},
   "source": [
    "# Challenge 1 -  Explore the Internal Dataset\n",
    "\n",
    "In this lab, we will start off by working with the wine dataset in scikit-learn. We will select the wine dataset and use a clustering algorithm to learn more about the functionalities of this library. \n",
    "\n",
    "We start off by loading the dataset using the `load_wine` function ([documentation](https://scikit-learn.org/stable/modules/generated/sklearn.datasets.load_wine.html)). In the cell below, we will import the function from scikit-learn."
   ]
  },
  {
   "cell_type": "code",
   "execution_count": 2,
   "metadata": {
    "ExecuteTime": {
     "end_time": "2019-10-29T19:08:14.646362Z",
     "start_time": "2019-10-29T19:08:14.507879Z"
    }
   },
   "outputs": [],
   "source": [
    "from sklearn.datasets import load_wine"
   ]
  },
  {
   "cell_type": "markdown",
   "metadata": {},
   "source": [
    "In the cell below, use the `load_wine` function and assign the wine dataset to a variable called `wine`."
   ]
  },
  {
   "cell_type": "code",
   "execution_count": 3,
   "metadata": {
    "ExecuteTime": {
     "end_time": "2019-10-29T19:08:16.317696Z",
     "start_time": "2019-10-29T19:08:16.307704Z"
    }
   },
   "outputs": [],
   "source": [
    "wine = load_wine()"
   ]
  },
  {
   "cell_type": "markdown",
   "metadata": {},
   "source": [
    "In the next step, list the keys of the variable `wine` to examine its contents. Note that the `load_wine` function does not return dataframes. It returns you a Python dictionary."
   ]
  },
  {
   "cell_type": "code",
   "execution_count": 4,
   "metadata": {
    "ExecuteTime": {
     "end_time": "2019-10-29T19:08:16.694814Z",
     "start_time": "2019-10-29T19:08:16.687137Z"
    }
   },
   "outputs": [
    {
     "data": {
      "text/plain": [
       "dict_keys(['data', 'target', 'target_names', 'DESCR', 'feature_names'])"
      ]
     },
     "execution_count": 4,
     "metadata": {},
     "output_type": "execute_result"
    }
   ],
   "source": [
    "load_wine().keys()"
   ]
  },
  {
   "cell_type": "markdown",
   "metadata": {},
   "source": [
    "Next, list the feature names. These are the different characteristics of the wine. "
   ]
  },
  {
   "cell_type": "code",
   "execution_count": 5,
   "metadata": {
    "ExecuteTime": {
     "end_time": "2019-10-29T19:08:17.329157Z",
     "start_time": "2019-10-29T19:08:17.320661Z"
    }
   },
   "outputs": [
    {
     "data": {
      "text/plain": [
       "['alcohol',\n",
       " 'malic_acid',\n",
       " 'ash',\n",
       " 'alcalinity_of_ash',\n",
       " 'magnesium',\n",
       " 'total_phenols',\n",
       " 'flavanoids',\n",
       " 'nonflavanoid_phenols',\n",
       " 'proanthocyanins',\n",
       " 'color_intensity',\n",
       " 'hue',\n",
       " 'od280/od315_of_diluted_wines',\n",
       " 'proline']"
      ]
     },
     "execution_count": 5,
     "metadata": {},
     "output_type": "execute_result"
    }
   ],
   "source": [
    "wine.feature_names"
   ]
  },
  {
   "cell_type": "markdown",
   "metadata": {},
   "source": [
    "Print the description of the dataset in the cell below using the `DESCR` attribute of the `wine` variable.\n",
    "\n",
    "*Hint: If your output is ill-formatted by displaying linebreaks as `\\n`, it means you are not using the print function.*"
   ]
  },
  {
   "cell_type": "code",
   "execution_count": 6,
   "metadata": {
    "ExecuteTime": {
     "end_time": "2019-10-29T19:08:21.212651Z",
     "start_time": "2019-10-29T19:08:21.205992Z"
    }
   },
   "outputs": [
    {
     "name": "stdout",
     "output_type": "stream",
     "text": [
      ".. _wine_dataset:\n",
      "\n",
      "Wine recognition dataset\n",
      "------------------------\n",
      "\n",
      "**Data Set Characteristics:**\n",
      "\n",
      "    :Number of Instances: 178 (50 in each of three classes)\n",
      "    :Number of Attributes: 13 numeric, predictive attributes and the class\n",
      "    :Attribute Information:\n",
      " \t\t- Alcohol\n",
      " \t\t- Malic acid\n",
      " \t\t- Ash\n",
      "\t\t- Alcalinity of ash  \n",
      " \t\t- Magnesium\n",
      "\t\t- Total phenols\n",
      " \t\t- Flavanoids\n",
      " \t\t- Nonflavanoid phenols\n",
      " \t\t- Proanthocyanins\n",
      "\t\t- Color intensity\n",
      " \t\t- Hue\n",
      " \t\t- OD280/OD315 of diluted wines\n",
      " \t\t- Proline\n",
      "\n",
      "    - class:\n",
      "            - class_0\n",
      "            - class_1\n",
      "            - class_2\n",
      "\t\t\n",
      "    :Summary Statistics:\n",
      "    \n",
      "    ============================= ==== ===== ======= =====\n",
      "                                   Min   Max   Mean     SD\n",
      "    ============================= ==== ===== ======= =====\n",
      "    Alcohol:                      11.0  14.8    13.0   0.8\n",
      "    Malic Acid:                   0.74  5.80    2.34  1.12\n",
      "    Ash:                          1.36  3.23    2.36  0.27\n",
      "    Alcalinity of Ash:            10.6  30.0    19.5   3.3\n",
      "    Magnesium:                    70.0 162.0    99.7  14.3\n",
      "    Total Phenols:                0.98  3.88    2.29  0.63\n",
      "    Flavanoids:                   0.34  5.08    2.03  1.00\n",
      "    Nonflavanoid Phenols:         0.13  0.66    0.36  0.12\n",
      "    Proanthocyanins:              0.41  3.58    1.59  0.57\n",
      "    Colour Intensity:              1.3  13.0     5.1   2.3\n",
      "    Hue:                          0.48  1.71    0.96  0.23\n",
      "    OD280/OD315 of diluted wines: 1.27  4.00    2.61  0.71\n",
      "    Proline:                       278  1680     746   315\n",
      "    ============================= ==== ===== ======= =====\n",
      "\n",
      "    :Missing Attribute Values: None\n",
      "    :Class Distribution: class_0 (59), class_1 (71), class_2 (48)\n",
      "    :Creator: R.A. Fisher\n",
      "    :Donor: Michael Marshall (MARSHALL%PLU@io.arc.nasa.gov)\n",
      "    :Date: July, 1988\n",
      "\n",
      "This is a copy of UCI ML Wine recognition datasets.\n",
      "https://archive.ics.uci.edu/ml/machine-learning-databases/wine/wine.data\n",
      "\n",
      "The data is the results of a chemical analysis of wines grown in the same\n",
      "region in Italy by three different cultivators. There are thirteen different\n",
      "measurements taken for different constituents found in the three types of\n",
      "wine.\n",
      "\n",
      "Original Owners: \n",
      "\n",
      "Forina, M. et al, PARVUS - \n",
      "An Extendible Package for Data Exploration, Classification and Correlation. \n",
      "Institute of Pharmaceutical and Food Analysis and Technologies,\n",
      "Via Brigata Salerno, 16147 Genoa, Italy.\n",
      "\n",
      "Citation:\n",
      "\n",
      "Lichman, M. (2013). UCI Machine Learning Repository\n",
      "[https://archive.ics.uci.edu/ml]. Irvine, CA: University of California,\n",
      "School of Information and Computer Science. \n",
      "\n",
      ".. topic:: References\n",
      "\n",
      "  (1) S. Aeberhard, D. Coomans and O. de Vel, \n",
      "  Comparison of Classifiers in High Dimensional Settings, \n",
      "  Tech. Rep. no. 92-02, (1992), Dept. of Computer Science and Dept. of  \n",
      "  Mathematics and Statistics, James Cook University of North Queensland. \n",
      "  (Also submitted to Technometrics). \n",
      "\n",
      "  The data was used with many others for comparing various \n",
      "  classifiers. The classes are separable, though only RDA \n",
      "  has achieved 100% correct classification. \n",
      "  (RDA : 100%, QDA 99.4%, LDA 98.9%, 1NN 96.1% (z-transformed data)) \n",
      "  (All results using the leave-one-out technique) \n",
      "\n",
      "  (2) S. Aeberhard, D. Coomans and O. de Vel, \n",
      "  \"THE CLASSIFICATION PERFORMANCE OF RDA\" \n",
      "  Tech. Rep. no. 92-01, (1992), Dept. of Computer Science and Dept. of \n",
      "  Mathematics and Statistics, James Cook University of North Queensland. \n",
      "  (Also submitted to Journal of Chemometrics).\n",
      "\n"
     ]
    }
   ],
   "source": [
    "print(wine.DESCR)"
   ]
  },
  {
   "cell_type": "markdown",
   "metadata": {},
   "source": [
    "#### From the description, we see that all columns are numeric. We also know that there is no missing data \n",
    "\n",
    "Let's plot the alcohol content histogram. Recall that we are working with a numpy array and will need to use a matplotlib function to produce a histogram. "
   ]
  },
  {
   "cell_type": "code",
   "execution_count": 21,
   "metadata": {
    "ExecuteTime": {
     "end_time": "2019-10-29T19:33:53.784630Z",
     "start_time": "2019-10-29T19:33:53.780084Z"
    }
   },
   "outputs": [],
   "source": [
    "X = wine.data\n",
    "y = wine.target"
   ]
  },
  {
   "cell_type": "code",
   "execution_count": 22,
   "metadata": {
    "ExecuteTime": {
     "end_time": "2019-10-29T19:33:56.550161Z",
     "start_time": "2019-10-29T19:33:56.368718Z"
    }
   },
   "outputs": [
    {
     "data": {
      "text/plain": [
       "<matplotlib.axes._subplots.AxesSubplot at 0x7fa8114a1be0>"
      ]
     },
     "execution_count": 22,
     "metadata": {},
     "output_type": "execute_result"
    },
    {
     "data": {
      "image/png": "[encoded data removed]",
      "text/plain": [
       "<Figure size 432x288 with 1 Axes>"
      ]
     },
     "metadata": {
      "needs_background": "light"
     },
     "output_type": "display_data"
    }
   ],
   "source": [
    "sns.distplot(X[0], bins=20)"
   ]
  },
  {
   "cell_type": "markdown",
   "metadata": {},
   "source": [
    "# Challenge 2 - Clustering the Internal Dataset\n",
    "\n",
    "In this portion of the lab, we will cluster the data to find common traits between the different wines. We will use the k-means clustering algorithm to achieve this goal.\n",
    "\n",
    "#### We start by importing k-means from scikit-learn and then proceed to create 4 clusters."
   ]
  },
  {
   "cell_type": "code",
   "execution_count": 23,
   "metadata": {
    "ExecuteTime": {
     "end_time": "2019-10-29T19:34:11.123684Z",
     "start_time": "2019-10-29T19:34:11.117353Z"
    }
   },
   "outputs": [],
   "source": [
    "# Imports:\n",
    "from sklearn.cluster import KMeans"
   ]
  },
  {
   "cell_type": "code",
   "execution_count": 24,
   "metadata": {
    "ExecuteTime": {
     "end_time": "2019-10-29T19:34:11.608053Z",
     "start_time": "2019-10-29T19:34:11.579195Z"
    }
   },
   "outputs": [],
   "source": [
    "km = KMeans(n_clusters=4).fit(X)"
   ]
  },
  {
   "cell_type": "markdown",
   "metadata": {},
   "source": [
    "#### Print the cluster labels."
   ]
  },
  {
   "cell_type": "code",
   "execution_count": 25,
   "metadata": {
    "ExecuteTime": {
     "end_time": "2019-10-29T19:34:15.762874Z",
     "start_time": "2019-10-29T19:34:15.756816Z"
    }
   },
   "outputs": [
    {
     "data": {
      "text/plain": [
       "array([1, 1, 2, 2, 3, 2, 2, 2, 1, 1, 2, 2, 2, 1, 2, 2, 2, 1, 2, 3, 3, 3,\n",
       "       1, 1, 3, 3, 2, 2, 1, 1, 2, 2, 1, 2, 1, 1, 1, 1, 1, 3, 3, 1, 1, 3,\n",
       "       1, 1, 1, 1, 1, 2, 1, 2, 2, 2, 1, 1, 1, 2, 2, 0, 3, 0, 3, 0, 0, 3,\n",
       "       0, 0, 3, 3, 1, 0, 0, 1, 1, 0, 0, 0, 3, 0, 0, 3, 3, 0, 0, 0, 0, 0,\n",
       "       3, 3, 0, 0, 0, 0, 0, 1, 3, 0, 3, 0, 3, 0, 0, 0, 3, 0, 0, 0, 0, 3,\n",
       "       0, 0, 3, 0, 0, 0, 0, 0, 0, 0, 3, 0, 0, 0, 0, 0, 0, 0, 0, 3, 3, 0,\n",
       "       0, 3, 3, 3, 3, 0, 3, 3, 3, 3, 0, 0, 3, 3, 0, 3, 3, 0, 0, 0, 0, 3,\n",
       "       3, 3, 0, 1, 3, 3, 0, 3, 0, 3, 3, 0, 3, 3, 3, 3, 0, 0, 3, 3, 3, 3,\n",
       "       3, 0], dtype=int32)"
      ]
     },
     "execution_count": 25,
     "metadata": {},
     "output_type": "execute_result"
    }
   ],
   "source": [
    "labels = km.labels_\n",
    "labels"
   ]
  },
  {
   "cell_type": "markdown",
   "metadata": {},
   "source": [
    "#### Compute the size of each cluster. This can be done by counting the number of occurrences of each unique label in the list above.\n",
    "\n",
    "Which is the largest cluster of the 4?"
   ]
  },
  {
   "cell_type": "code",
   "execution_count": 26,
   "metadata": {
    "ExecuteTime": {
     "end_time": "2019-10-29T19:34:20.052344Z",
     "start_time": "2019-10-29T19:34:20.037514Z"
    }
   },
   "outputs": [
    {
     "name": "stdout",
     "output_type": "stream",
     "text": [
      "Number of occurrences of 0: 66\n",
      "Number of occurrences of 1: 32\n",
      "Number of occurrences of 2: 23\n",
      "Number of occurrences of 3: 57\n"
     ]
    }
   ],
   "source": [
    "for i in range(4):\n",
    "    count = list(labels).count(i)\n",
    "    print('Number of occurrences of {}: {}'.format(i,count))"
   ]
  },
  {
   "cell_type": "code",
   "execution_count": 27,
   "metadata": {
    "ExecuteTime": {
     "end_time": "2019-10-29T19:34:23.045825Z",
     "start_time": "2019-10-29T19:34:23.043239Z"
    }
   },
   "outputs": [],
   "source": [
    "# Your answer here:\n",
    "# Cluster 0"
   ]
  },
  {
   "cell_type": "markdown",
   "metadata": {},
   "source": [
    "#### Inspect the shape of `wine['data']`"
   ]
  },
  {
   "cell_type": "code",
   "execution_count": 28,
   "metadata": {
    "ExecuteTime": {
     "end_time": "2019-10-29T19:34:37.049852Z",
     "start_time": "2019-10-29T19:34:37.043134Z"
    }
   },
   "outputs": [
    {
     "data": {
      "text/plain": [
       "(178, 13)"
      ]
     },
     "execution_count": 28,
     "metadata": {},
     "output_type": "execute_result"
    }
   ],
   "source": [
    "X.shape"
   ]
  },
  {
   "cell_type": "markdown",
   "metadata": {},
   "source": [
    "#### Inspect the first 5 records in `wine['data']`"
   ]
  },
  {
   "cell_type": "code",
   "execution_count": 30,
   "metadata": {
    "ExecuteTime": {
     "end_time": "2019-10-29T19:37:35.554055Z",
     "start_time": "2019-10-29T19:37:35.544489Z"
    }
   },
   "outputs": [
    {
     "data": {
      "text/plain": [
       "array([[1.423e+01, 1.710e+00, 2.430e+00, 1.560e+01, 1.270e+02, 2.800e+00,\n",
       "        3.060e+00, 2.800e-01, 2.290e+00, 5.640e+00, 1.040e+00, 3.920e+00,\n",
       "        1.065e+03],\n",
       "       [1.320e+01, 1.780e+00, 2.140e+00, 1.120e+01, 1.000e+02, 2.650e+00,\n",
       "        2.760e+00, 2.600e-01, 1.280e+00, 4.380e+00, 1.050e+00, 3.400e+00,\n",
       "        1.050e+03],\n",
       "       [1.316e+01, 2.360e+00, 2.670e+00, 1.860e+01, 1.010e+02, 2.800e+00,\n",
       "        3.240e+00, 3.000e-01, 2.810e+00, 5.680e+00, 1.030e+00, 3.170e+00,\n",
       "        1.185e+03],\n",
       "       [1.437e+01, 1.950e+00, 2.500e+00, 1.680e+01, 1.130e+02, 3.850e+00,\n",
       "        3.490e+00, 2.400e-01, 2.180e+00, 7.800e+00, 8.600e-01, 3.450e+00,\n",
       "        1.480e+03],\n",
       "       [1.324e+01, 2.590e+00, 2.870e+00, 2.100e+01, 1.180e+02, 2.800e+00,\n",
       "        2.690e+00, 3.900e-01, 1.820e+00, 4.320e+00, 1.040e+00, 2.930e+00,\n",
       "        7.350e+02]])"
      ]
     },
     "execution_count": 30,
     "metadata": {},
     "output_type": "execute_result"
    }
   ],
   "source": [
    "X[:5]"
   ]
  },
  {
   "cell_type": "markdown",
   "metadata": {},
   "source": [
    "You now know the data object is a 2-dimensional array in which there are 178 rows and 13 columns. Each row is a data record and each column is a feature.\n",
    "\n",
    "#### What is the average ash content for each cluster? \n",
    "\n",
    "*Hints:* \n",
    "\n",
    "* *Ash* is the 3rd column.\n",
    "\n",
    "* The data object is not a Pandas dataframe so you can't apply `pandas.DataFrame.groupby`. Instead, you can use `np.average`."
   ]
  },
  {
   "cell_type": "code",
   "execution_count": 38,
   "metadata": {
    "ExecuteTime": {
     "end_time": "2019-10-29T19:47:43.813698Z",
     "start_time": "2019-10-29T19:47:43.805288Z"
    }
   },
   "outputs": [
    {
     "data": {
      "text/plain": [
       "13.00061797752809"
      ]
     },
     "execution_count": 38,
     "metadata": {},
     "output_type": "execute_result"
    }
   ],
   "source": [
    "np.average(X[:, 0])"
   ]
  },
  {
   "cell_type": "code",
   "execution_count": 54,
   "metadata": {
    "ExecuteTime": {
     "end_time": "2019-10-29T20:04:18.847200Z",
     "start_time": "2019-10-29T20:04:18.836770Z"
    }
   },
   "outputs": [
    {
     "name": "stdout",
     "output_type": "stream",
     "text": [
      "Average Ash of Cluster 0 is 2.28\n",
      "Average Ash of Cluster 1 is 2.37\n",
      "Average Ash of Cluster 2 is 2.51\n",
      "Average Ash of Cluster 3 is 2.4\n"
     ]
    }
   ],
   "source": [
    "zeros = []\n",
    "ones = []\n",
    "twos = []\n",
    "threes = []\n",
    "\n",
    "for i in range(len(labels)):\n",
    "    if labels[i] == 0:\n",
    "        zeros.append(X[i,2])\n",
    "    elif labels[i] == 1:\n",
    "        ones.append(X[i,2])\n",
    "    elif labels[i] == 2:\n",
    "        twos.append(X[i,2])\n",
    "    elif labels[i] == 3:\n",
    "        threes.append(X[i,2])\n",
    "\n",
    "for name, cluster in zip(['0', '1', '2', '3'],[zeros, ones, twos, threes]):\n",
    "    print('Average Ash of Cluster {} is {}'.format(name, round(np.average(cluster), 2)))"
   ]
  },
  {
   "cell_type": "markdown",
   "metadata": {},
   "source": [
    "# Challenge 3 - Load and Explore an External Dataset\n",
    "\n",
    "We will now load an external dataset using Pandas and use scikit learn to explore the data. In this portion of the lab, we will use a [patient dataset from Kaggle](https://www.kaggle.com/miles99/patient-admission-dataset-for-learning-data-mining). "
   ]
  },
  {
   "cell_type": "code",
   "execution_count": 58,
   "metadata": {
    "ExecuteTime": {
     "end_time": "2019-10-29T20:08:19.267935Z",
     "start_time": "2019-10-29T20:08:19.198504Z"
    }
   },
   "outputs": [],
   "source": [
    "patients = pd.read_csv('../data/patient-admission-dataset-for-learning-data-mining.csv')"
   ]
  },
  {
   "cell_type": "markdown",
   "metadata": {},
   "source": [
    "In the next cell, print the first five rows of the data using the `head()` function."
   ]
  },
  {
   "cell_type": "code",
   "execution_count": 72,
   "metadata": {
    "ExecuteTime": {
     "end_time": "2019-10-29T20:21:57.402771Z",
     "start_time": "2019-10-29T20:21:57.380987Z"
    }
   },
   "outputs": [
    {
     "data": {
      "text/html": [
       "<div>\n",
       "<style scoped>\n",
       "    .dataframe tbody tr th:only-of-type {\n",
       "        vertical-align: middle;\n",
       "    }\n",
       "\n",
       "    .dataframe tbody tr th {\n",
       "        vertical-align: top;\n",
       "    }\n",
       "\n",
       "    .dataframe thead th {\n",
       "        text-align: right;\n",
       "    }\n",
       "</style>\n",
       "<table border=\"1\" class=\"dataframe\">\n",
       "  <thead>\n",
       "    <tr style=\"text-align: right;\">\n",
       "      <th></th>\n",
       "      <th>patient_gender</th>\n",
       "      <th>patient_dob</th>\n",
       "      <th>patient_diabetic</th>\n",
       "      <th>patient_allergic</th>\n",
       "      <th>patient_weight_kg</th>\n",
       "      <th>patient_height_sm</th>\n",
       "      <th>doctor_name</th>\n",
       "      <th>appointment_date</th>\n",
       "      <th>patient_show</th>\n",
       "      <th>is_regular_visit</th>\n",
       "      <th>prescribed_medicines</th>\n",
       "      <th>diagnosis</th>\n",
       "    </tr>\n",
       "  </thead>\n",
       "  <tbody>\n",
       "    <tr>\n",
       "      <th>0</th>\n",
       "      <td>Female</td>\n",
       "      <td>2018-10-18</td>\n",
       "      <td>False</td>\n",
       "      <td>True</td>\n",
       "      <td>59</td>\n",
       "      <td>176</td>\n",
       "      <td>Sarena Waliszek</td>\n",
       "      <td>2018-05-01</td>\n",
       "      <td>True</td>\n",
       "      <td>True</td>\n",
       "      <td>triamcinolone acetonide</td>\n",
       "      <td>I669</td>\n",
       "    </tr>\n",
       "    <tr>\n",
       "      <th>1</th>\n",
       "      <td>Female</td>\n",
       "      <td>2018-02-08</td>\n",
       "      <td>False</td>\n",
       "      <td>True</td>\n",
       "      <td>77</td>\n",
       "      <td>186</td>\n",
       "      <td>Farris Robinet</td>\n",
       "      <td>2017-12-07</td>\n",
       "      <td>True</td>\n",
       "      <td>True</td>\n",
       "      <td>NaN</td>\n",
       "      <td>NaN</td>\n",
       "    </tr>\n",
       "    <tr>\n",
       "      <th>2</th>\n",
       "      <td>Female</td>\n",
       "      <td>2018-10-09</td>\n",
       "      <td>True</td>\n",
       "      <td>True</td>\n",
       "      <td>90</td>\n",
       "      <td>177</td>\n",
       "      <td>Kaspar Spitaro</td>\n",
       "      <td>2018-10-05</td>\n",
       "      <td>False</td>\n",
       "      <td>False</td>\n",
       "      <td>NaN</td>\n",
       "      <td>NaN</td>\n",
       "    </tr>\n",
       "    <tr>\n",
       "      <th>3</th>\n",
       "      <td>Male</td>\n",
       "      <td>2018-09-10</td>\n",
       "      <td>True</td>\n",
       "      <td>True</td>\n",
       "      <td>70</td>\n",
       "      <td>150</td>\n",
       "      <td>Rafferty Fowls</td>\n",
       "      <td>2018-10-21</td>\n",
       "      <td>False</td>\n",
       "      <td>True</td>\n",
       "      <td>NaN</td>\n",
       "      <td>NaN</td>\n",
       "    </tr>\n",
       "    <tr>\n",
       "      <th>4</th>\n",
       "      <td>Female</td>\n",
       "      <td>2018-02-26</td>\n",
       "      <td>False</td>\n",
       "      <td>True</td>\n",
       "      <td>82</td>\n",
       "      <td>140</td>\n",
       "      <td>Glenna MacNeachtain</td>\n",
       "      <td>2018-11-15</td>\n",
       "      <td>False</td>\n",
       "      <td>False</td>\n",
       "      <td>NaN</td>\n",
       "      <td>NaN</td>\n",
       "    </tr>\n",
       "  </tbody>\n",
       "</table>\n",
       "</div>"
      ],
      "text/plain": [
       "  patient_gender patient_dob  patient_diabetic  patient_allergic  \\\n",
       "0         Female  2018-10-18             False              True   \n",
       "1         Female  2018-02-08             False              True   \n",
       "2         Female  2018-10-09              True              True   \n",
       "3           Male  2018-09-10              True              True   \n",
       "4         Female  2018-02-26             False              True   \n",
       "\n",
       "   patient_weight_kg  patient_height_sm          doctor_name appointment_date  \\\n",
       "0                 59                176      Sarena Waliszek       2018-05-01   \n",
       "1                 77                186       Farris Robinet       2017-12-07   \n",
       "2                 90                177       Kaspar Spitaro       2018-10-05   \n",
       "3                 70                150       Rafferty Fowls       2018-10-21   \n",
       "4                 82                140  Glenna MacNeachtain       2018-11-15   \n",
       "\n",
       "   patient_show  is_regular_visit     prescribed_medicines diagnosis  \n",
       "0          True              True  triamcinolone acetonide      I669  \n",
       "1          True              True                      NaN       NaN  \n",
       "2         False             False                      NaN       NaN  \n",
       "3         False              True                      NaN       NaN  \n",
       "4         False             False                      NaN       NaN  "
      ]
     },
     "execution_count": 72,
     "metadata": {},
     "output_type": "execute_result"
    }
   ],
   "source": [
    "patients.head()"
   ]
  },
  {
   "cell_type": "markdown",
   "metadata": {},
   "source": [
    "Next, print the column types and check which columns have been misclassified by pandas."
   ]
  },
  {
   "cell_type": "code",
   "execution_count": 66,
   "metadata": {
    "ExecuteTime": {
     "end_time": "2019-10-29T20:19:30.098402Z",
     "start_time": "2019-10-29T20:19:30.089828Z"
    }
   },
   "outputs": [
    {
     "data": {
      "text/plain": [
       "id                               int64\n",
       "patient_name                    object\n",
       "patient_email                   object\n",
       "doctor_phone                    object\n",
       "patient_gender                  object\n",
       "patient_dob             datetime64[ns]\n",
       "patient_diabetic                  bool\n",
       "patient_allergic                  bool\n",
       "patient_weight_kg                int64\n",
       "patient_height_sm                int64\n",
       "patient_nhs_number             float64\n",
       "doctor_name                     object\n",
       "appointment_date        datetime64[ns]\n",
       "patient_show                      bool\n",
       "is_regular_visit                  bool\n",
       "prescribed_medicines            object\n",
       "diagnosis                       object\n",
       "dtype: object"
      ]
     },
     "execution_count": 66,
     "metadata": {},
     "output_type": "execute_result"
    }
   ],
   "source": [
    "patients.dtypes"
   ]
  },
  {
   "cell_type": "markdown",
   "metadata": {
    "ExecuteTime": {
     "end_time": "2019-10-29T20:10:34.419442Z",
     "start_time": "2019-10-29T20:10:34.409903Z"
    }
   },
   "source": [
    "patient_dob - Object --> DateTime\n",
    "patient_nhs_number - Float --> Object\n",
    "appointment_date - Object --> DateTime"
   ]
  },
  {
   "cell_type": "markdown",
   "metadata": {},
   "source": [
    "#### We can see that none of the date columns have been correctly classified. Also, some columns contain qualitative data that can be dropped.\n",
    "\n",
    "First, transform the `patient_dob` and `appointment_date` columns to datetime using the `pd.to_datetime` function."
   ]
  },
  {
   "cell_type": "code",
   "execution_count": 65,
   "metadata": {
    "ExecuteTime": {
     "end_time": "2019-10-29T20:19:25.453500Z",
     "start_time": "2019-10-29T20:19:25.361880Z"
    }
   },
   "outputs": [],
   "source": [
    "patients.patient_dob = pd.to_datetime(patients.patient_dob, errors='coerce')\n",
    "patients.appointment_date = pd.to_datetime(patients.appointment_date, errors='coerce')"
   ]
  },
  {
   "cell_type": "markdown",
   "metadata": {},
   "source": [
    "Next, drop the `id`, `patient_name`, `patient_email`, `patient_nhs_number`, and `doctor_phone` columns. These are not quantitative columns and will not contribute to our analysis."
   ]
  },
  {
   "cell_type": "code",
   "execution_count": 71,
   "metadata": {
    "ExecuteTime": {
     "end_time": "2019-10-29T20:21:52.783318Z",
     "start_time": "2019-10-29T20:21:52.775347Z"
    }
   },
   "outputs": [],
   "source": [
    "patients.drop(columns=['id', 'patient_name', 'patient_email', 'patient_nhs_number', 'doctor_phone'], inplace=True)"
   ]
  },
  {
   "cell_type": "markdown",
   "metadata": {},
   "source": [
    "Now we work on the missing data. Most ML algorithms will not perform as intended if there are missing data.\n",
    "\n",
    "In the cell below, count how many rows contain missing data in each column. You should see three columns contain missing data:\n",
    "\n",
    "* `doctor_name`: 58 missing data\n",
    "* `prescribed_medicines`: 488 missing data\n",
    "* `diagnosis`: 488 missing data"
   ]
  },
  {
   "cell_type": "code",
   "execution_count": 79,
   "metadata": {
    "ExecuteTime": {
     "end_time": "2019-10-31T17:37:02.892241Z",
     "start_time": "2019-10-31T17:37:02.877724Z"
    }
   },
   "outputs": [
    {
     "data": {
      "text/plain": [
       "doctor_name    58\n",
       "dtype: int64"
      ]
     },
     "execution_count": 79,
     "metadata": {},
     "output_type": "execute_result"
    }
   ],
   "source": [
    "patients.isna().sum()[patients.isna().sum() != 0]"
   ]
  },
  {
   "cell_type": "markdown",
   "metadata": {},
   "source": [
    "The main issues are found in the `prescribed_medicines` and `diagnosis` columns. Can we simply drop these rows?\n",
    "\n",
    "The answer is not yet. Because when there are missing data in these columns, it doesn't mean the data records are broken. Instead, it means no medication was prescribed and no diagnosis was recorded. Therefore, once we fill in the missing data these columns will be fine. But we'll revisit these columns and decide whether we will eventually drop them when we look at how many unique values are there in these categorical columns.  \n",
    "\n",
    "For the `prescribed_medicines` column, fill the missing values with the value `no prescription`. For the `diagnosis` column, fill the missing values with `no diagnosis`.\n",
    "\n",
    "*Hint: Use [`pandas.DataFrame.fillna`](https://pandas.pydata.org/pandas-docs/stable/generated/pandas.DataFrame.fillna.html).*"
   ]
  },
  {
   "cell_type": "code",
   "execution_count": 78,
   "metadata": {
    "ExecuteTime": {
     "end_time": "2019-10-31T17:36:59.425169Z",
     "start_time": "2019-10-31T17:36:59.417083Z"
    }
   },
   "outputs": [],
   "source": [
    "patients.prescribed_medicines.fillna('no prescription', inplace=True)\n",
    "patients.diagnosis.fillna('no diagnosis', inplace=True)"
   ]
  },
  {
   "cell_type": "markdown",
   "metadata": {},
   "source": [
    "How about `doctor_name`? Since a doctor visit without a doctor name might not be meaningful, we will drop these rows."
   ]
  },
  {
   "cell_type": "code",
   "execution_count": 90,
   "metadata": {
    "ExecuteTime": {
     "end_time": "2019-10-31T19:12:02.852418Z",
     "start_time": "2019-10-31T19:12:02.844073Z"
    }
   },
   "outputs": [],
   "source": [
    "patients.dropna(inplace=True)"
   ]
  },
  {
   "cell_type": "markdown",
   "metadata": {},
   "source": [
    "#### Another step in preprocessing that can be performed by scikit-learn is label encoding. \n",
    "\n",
    "We have 4 columns that are of `bool` type. We would like to convert them to an integer column containing either zero or one. We can do this using [scikit-learn's label encoder](https://scikit-learn.org/stable/modules/generated/sklearn.preprocessing.LabelEncoder.html).\n",
    "\n",
    "In the cell below, import the label encoder and encode the 4 boolean columns (*patient_diabetic*, *patient_allergic*, *patient_show*, *is_regular_visit*) with `0` and `1`. "
   ]
  },
  {
   "cell_type": "code",
   "execution_count": 91,
   "metadata": {
    "ExecuteTime": {
     "end_time": "2019-10-31T19:12:50.550299Z",
     "start_time": "2019-10-31T19:12:50.547627Z"
    }
   },
   "outputs": [],
   "source": [
    "from sklearn.preprocessing import LabelEncoder"
   ]
  },
  {
   "cell_type": "code",
   "execution_count": 99,
   "metadata": {
    "ExecuteTime": {
     "end_time": "2019-10-31T19:17:47.041677Z",
     "start_time": "2019-10-31T19:17:47.036420Z"
    }
   },
   "outputs": [],
   "source": [
    "encoder = LabelEncoder()\n",
    "encoder.fit(patients.patient_diabetic)\n",
    "patients.patient_diabetic = encoder.transform(patients.patient_diabetic)"
   ]
  },
  {
   "cell_type": "code",
   "execution_count": 101,
   "metadata": {
    "ExecuteTime": {
     "end_time": "2019-10-31T19:18:49.722167Z",
     "start_time": "2019-10-31T19:18:49.712176Z"
    }
   },
   "outputs": [],
   "source": [
    "to_encode = ['patient_diabetic', 'patient_allergic', 'patient_show', 'is_regular_visit']\n",
    "for i in to_encode:\n",
    "    le = LabelEncoder()\n",
    "    le.fit(patients[i])\n",
    "    patients[i] = encoder.transform(patients[i])"
   ]
  },
  {
   "cell_type": "code",
   "execution_count": 102,
   "metadata": {
    "ExecuteTime": {
     "end_time": "2019-10-31T19:18:58.308268Z",
     "start_time": "2019-10-31T19:18:58.277190Z"
    }
   },
   "outputs": [
    {
     "data": {
      "text/html": [
       "<div>\n",
       "<style scoped>\n",
       "    .dataframe tbody tr th:only-of-type {\n",
       "        vertical-align: middle;\n",
       "    }\n",
       "\n",
       "    .dataframe tbody tr th {\n",
       "        vertical-align: top;\n",
       "    }\n",
       "\n",
       "    .dataframe thead th {\n",
       "        text-align: right;\n",
       "    }\n",
       "</style>\n",
       "<table border=\"1\" class=\"dataframe\">\n",
       "  <thead>\n",
       "    <tr style=\"text-align: right;\">\n",
       "      <th></th>\n",
       "      <th>patient_gender</th>\n",
       "      <th>patient_dob</th>\n",
       "      <th>patient_diabetic</th>\n",
       "      <th>patient_allergic</th>\n",
       "      <th>patient_weight_kg</th>\n",
       "      <th>patient_height_sm</th>\n",
       "      <th>doctor_name</th>\n",
       "      <th>appointment_date</th>\n",
       "      <th>patient_show</th>\n",
       "      <th>is_regular_visit</th>\n",
       "      <th>prescribed_medicines</th>\n",
       "      <th>diagnosis</th>\n",
       "    </tr>\n",
       "  </thead>\n",
       "  <tbody>\n",
       "    <tr>\n",
       "      <th>0</th>\n",
       "      <td>Female</td>\n",
       "      <td>2018-10-18</td>\n",
       "      <td>0</td>\n",
       "      <td>1</td>\n",
       "      <td>59</td>\n",
       "      <td>176</td>\n",
       "      <td>Sarena Waliszek</td>\n",
       "      <td>2018-05-01</td>\n",
       "      <td>1</td>\n",
       "      <td>1</td>\n",
       "      <td>triamcinolone acetonide</td>\n",
       "      <td>I669</td>\n",
       "    </tr>\n",
       "    <tr>\n",
       "      <th>1</th>\n",
       "      <td>Female</td>\n",
       "      <td>2018-02-08</td>\n",
       "      <td>0</td>\n",
       "      <td>1</td>\n",
       "      <td>77</td>\n",
       "      <td>186</td>\n",
       "      <td>Farris Robinet</td>\n",
       "      <td>2017-12-07</td>\n",
       "      <td>1</td>\n",
       "      <td>1</td>\n",
       "      <td>no prescription</td>\n",
       "      <td>no diagnosis</td>\n",
       "    </tr>\n",
       "    <tr>\n",
       "      <th>2</th>\n",
       "      <td>Female</td>\n",
       "      <td>2018-10-09</td>\n",
       "      <td>1</td>\n",
       "      <td>1</td>\n",
       "      <td>90</td>\n",
       "      <td>177</td>\n",
       "      <td>Kaspar Spitaro</td>\n",
       "      <td>2018-10-05</td>\n",
       "      <td>0</td>\n",
       "      <td>0</td>\n",
       "      <td>no prescription</td>\n",
       "      <td>no diagnosis</td>\n",
       "    </tr>\n",
       "    <tr>\n",
       "      <th>3</th>\n",
       "      <td>Male</td>\n",
       "      <td>2018-09-10</td>\n",
       "      <td>1</td>\n",
       "      <td>1</td>\n",
       "      <td>70</td>\n",
       "      <td>150</td>\n",
       "      <td>Rafferty Fowls</td>\n",
       "      <td>2018-10-21</td>\n",
       "      <td>0</td>\n",
       "      <td>1</td>\n",
       "      <td>no prescription</td>\n",
       "      <td>no diagnosis</td>\n",
       "    </tr>\n",
       "    <tr>\n",
       "      <th>4</th>\n",
       "      <td>Female</td>\n",
       "      <td>2018-02-26</td>\n",
       "      <td>0</td>\n",
       "      <td>1</td>\n",
       "      <td>82</td>\n",
       "      <td>140</td>\n",
       "      <td>Glenna MacNeachtain</td>\n",
       "      <td>2018-11-15</td>\n",
       "      <td>0</td>\n",
       "      <td>0</td>\n",
       "      <td>no prescription</td>\n",
       "      <td>no diagnosis</td>\n",
       "    </tr>\n",
       "  </tbody>\n",
       "</table>\n",
       "</div>"
      ],
      "text/plain": [
       "  patient_gender patient_dob  patient_diabetic  patient_allergic  \\\n",
       "0         Female  2018-10-18                 0                 1   \n",
       "1         Female  2018-02-08                 0                 1   \n",
       "2         Female  2018-10-09                 1                 1   \n",
       "3           Male  2018-09-10                 1                 1   \n",
       "4         Female  2018-02-26                 0                 1   \n",
       "\n",
       "   patient_weight_kg  patient_height_sm          doctor_name appointment_date  \\\n",
       "0                 59                176      Sarena Waliszek       2018-05-01   \n",
       "1                 77                186       Farris Robinet       2017-12-07   \n",
       "2                 90                177       Kaspar Spitaro       2018-10-05   \n",
       "3                 70                150       Rafferty Fowls       2018-10-21   \n",
       "4                 82                140  Glenna MacNeachtain       2018-11-15   \n",
       "\n",
       "   patient_show  is_regular_visit     prescribed_medicines     diagnosis  \n",
       "0             1                 1  triamcinolone acetonide          I669  \n",
       "1             1                 1          no prescription  no diagnosis  \n",
       "2             0                 0          no prescription  no diagnosis  \n",
       "3             0                 1          no prescription  no diagnosis  \n",
       "4             0                 0          no prescription  no diagnosis  "
      ]
     },
     "execution_count": 102,
     "metadata": {},
     "output_type": "execute_result"
    }
   ],
   "source": [
    "patients.head()"
   ]
  },
  {
   "cell_type": "markdown",
   "metadata": {},
   "source": [
    "Print the data dtypes to confirm those four `bool` columns are converted to `int64`."
   ]
  },
  {
   "cell_type": "code",
   "execution_count": 104,
   "metadata": {
    "ExecuteTime": {
     "end_time": "2019-10-31T19:21:41.046738Z",
     "start_time": "2019-10-31T19:21:41.036817Z"
    }
   },
   "outputs": [
    {
     "data": {
      "text/plain": [
       "patient_gender                  object\n",
       "patient_dob             datetime64[ns]\n",
       "patient_diabetic                 int64\n",
       "patient_allergic                 int64\n",
       "patient_weight_kg                int64\n",
       "patient_height_sm                int64\n",
       "doctor_name                     object\n",
       "appointment_date        datetime64[ns]\n",
       "patient_show                     int64\n",
       "is_regular_visit                 int64\n",
       "prescribed_medicines            object\n",
       "diagnosis                       object\n",
       "dtype: object"
      ]
     },
     "execution_count": 104,
     "metadata": {},
     "output_type": "execute_result"
    }
   ],
   "source": [
    "patients.dtypes"
   ]
  },
  {
   "cell_type": "markdown",
   "metadata": {},
   "source": [
    "#### The last step is to handle the `object` data.\n",
    "\n",
    "There are 4 `object` columns now: `patient_gender`, `doctor_name`, `prescribed_medicines`, and `diagnosis`. The gender columns\n",
    "\n",
    "In the next cell, check the unique values of each of the `object` columns using `value_counts()`."
   ]
  },
  {
   "cell_type": "code",
   "execution_count": 112,
   "metadata": {
    "ExecuteTime": {
     "end_time": "2019-10-31T19:42:27.909839Z",
     "start_time": "2019-10-31T19:42:27.879314Z"
    },
    "scrolled": false
   },
   "outputs": [
    {
     "name": "stdout",
     "output_type": "stream",
     "text": [
      "Female    476\n",
      "Male      466\n",
      "Name: patient_gender, dtype: int64\n",
      "-------------------------------------------------------------------\n",
      "Sarena Waliszek           74\n",
      "Cissy Markey              57\n",
      "Flossy Canlin             55\n",
      "Farris Robinet            55\n",
      "Glenna MacNeachtain       53\n",
      "Jilly McGrill             53\n",
      "Gabie Brafield            53\n",
      "Nerte Elmer               51\n",
      "Oralie Swaffer            49\n",
      "Kaspar Spitaro            48\n",
      "Carly SperaJillie Katt    47\n",
      "Wyn Grassett              47\n",
      "Humfried Cartmel          47\n",
      "Madelina Scurrell         46\n",
      "Rafferty Fowls            45\n",
      "Dulce McKerley            42\n",
      "Rouvin McKinstry          42\n",
      "Ryley Swallow             40\n",
      "Hermina Domeny            38\n",
      "Name: doctor_name, dtype: int64\n",
      "-------------------------------------------------------------------\n",
      "no prescription                                                                                                                                                                                                                                                                      457\n",
      "ALCOHOL                                                                                                                                                                                                                                                                                8\n",
      "Ibuprofen                                                                                                                                                                                                                                                                              6\n",
      "Triclosan                                                                                                                                                                                                                                                                              5\n",
      "Acetaminophen                                                                                                                                                                                                                                                                          5\n",
      "Aluminum Zirconium Tetrachlorohydrex GLY                                                                                                                                                                                                                                               4\n",
      "Nicotine Polacrilex                                                                                                                                                                                                                                                                    4\n",
      "Amlodipine Besylate                                                                                                                                                                                                                                                                    3\n",
      "Dexamethasone                                                                                                                                                                                                                                                                          3\n",
      "Benzalkonium Chloride                                                                                                                                                                                                                                                                  3\n",
      "Zinc Oxide                                                                                                                                                                                                                                                                             3\n",
      "Octinoxate and Oxybenzone                                                                                                                                                                                                                                                              3\n",
      "Menthol                                                                                                                                                                                                                                                                                3\n",
      "Glycerin                                                                                                                                                                                                                                                                               3\n",
      "Hydrocodone Bitartrate and Acetaminophen                                                                                                                                                                                                                                               3\n",
      "Sodium Fluoride                                                                                                                                                                                                                                                                        3\n",
      "Oxcarbazepine                                                                                                                                                                                                                                                                          3\n",
      "Metformin Hydrochloride                                                                                                                                                                                                                                                                3\n",
      "CLOTRIMAZOLE                                                                                                                                                                                                                                                                           2\n",
      "Desmopressin Acetate                                                                                                                                                                                                                                                                   2\n",
      "TITANIUM DIOXIDE, OCTINOXATE                                                                                                                                                                                                                                                           2\n",
      "SODIUM FLUORIDE                                                                                                                                                                                                                                                                        2\n",
      "Benzoyl Peroxide                                                                                                                                                                                                                                                                       2\n",
      "OCTINOXATE and TITANIUM DIOXIDE                                                                                                                                                                                                                                                        2\n",
      "Oxygen                                                                                                                                                                                                                                                                                 2\n",
      "Amoxicillin                                                                                                                                                                                                                                                                            2\n",
      "Risperidone                                                                                                                                                                                                                                                                            2\n",
      "Potassium Chloride                                                                                                                                                                                                                                                                     2\n",
      "TRAMADOL HYDROCHLORIDE                                                                                                                                                                                                                                                                 2\n",
      "Bismuth subsalicylate                                                                                                                                                                                                                                                                  2\n",
      "Terbinafine Hydrochloride                                                                                                                                                                                                                                                              2\n",
      "Carvedilol                                                                                                                                                                                                                                                                             2\n",
      "Omeprazole                                                                                                                                                                                                                                                                             2\n",
      "DOCUSATE SODIUM                                                                                                                                                                                                                                                                        2\n",
      "Acetaminophen, Dextromethorphan HBr, Guaifenesin, Phenylephrine HCl                                                                                                                                                                                                                    2\n",
      "Titanium Dioxide, Zinc Oxide                                                                                                                                                                                                                                                           2\n",
      "Titanium dioxide                                                                                                                                                                                                                                                                       2\n",
      "Diphenhydramine HCl                                                                                                                                                                                                                                                                    2\n",
      "OXYGEN                                                                                                                                                                                                                                                                                 2\n",
      "Sulfamethoxazole and Trimethoprim                                                                                                                                                                                                                                                      2\n",
      "fentanyl                                                                                                                                                                                                                                                                               2\n",
      "salicylic acid                                                                                                                                                                                                                                                                         2\n",
      "Isopropyl Alcohol                                                                                                                                                                                                                                                                      2\n",
      "TOLNAFTATE                                                                                                                                                                                                                                                                             2\n",
      "Salicylic Acid                                                                                                                                                                                                                                                                         2\n",
      "Oxymorphone Hydrochloride                                                                                                                                                                                                                                                              2\n",
      "GLYCERIN                                                                                                                                                                                                                                                                               2\n",
      "Etodolac                                                                                                                                                                                                                                                                               2\n",
      "Oxycodone and Acetaminophen                                                                                                                                                                                                                                                            2\n",
      "Silicea Belladonna                                                                                                                                                                                                                                                                     2\n",
      "BISMUTH SUBSALICYLATE                                                                                                                                                                                                                                                                  2\n",
      "Dimethicone                                                                                                                                                                                                                                                                            2\n",
      "BENZALKONIUM CHLORIDE                                                                                                                                                                                                                                                                  2\n",
      "divalproex sodium                                                                                                                                                                                                                                                                      2\n",
      "Octinoxate and Titanium dioxide                                                                                                                                                                                                                                                        2\n",
      "Simethicone                                                                                                                                                                                                                                                                            2\n",
      "Antihemophilic Factor (Recombinant)                                                                                                                                                                                                                                                    2\n",
      "Aluminum Zirconium Trichlorohydrex Gly                                                                                                                                                                                                                                                 2\n",
      "TRICLOSAN                                                                                                                                                                                                                                                                              2\n",
      "Benazepril Hydrochloride                                                                                                                                                                                                                                                               2\n",
      "False Ragweed                                                                                                                                                                                                                                                                          2\n",
      "Sweetgum                                                                                                                                                                                                                                                                               1\n",
      "oxybutynin chloride                                                                                                                                                                                                                                                                    1\n",
      "Disulfiram                                                                                                                                                                                                                                                                             1\n",
      "OCTINOXATE and OXYBENZONE                                                                                                                                                                                                                                                              1\n",
      "Fenofibric Acid                                                                                                                                                                                                                                                                        1\n",
      "Aspirin                                                                                                                                                                                                                                                                                1\n",
      "providone iodine                                                                                                                                                                                                                                                                       1\n",
      "Arnica montana, Caladium seguinum, Carduus marianus, Damiana, Galium aparine, Glandula suprarenalis suis, Hepar suis, Korean ginseng, Lactuca virosa,                                                                                                                                  1\n",
      "montelukast sodium                                                                                                                                                                                                                                                                     1\n",
      "moexipril hydrochloride                                                                                                                                                                                                                                                                1\n",
      "Artichoke                                                                                                                                                                                                                                                                              1\n",
      "ATORVASTATIN CALCIUM                                                                                                                                                                                                                                                                   1\n",
      "aluminum hydroxide                                                                                                                                                                                                                                                                     1\n",
      "Titanium Dioxide, Zinc Oxide, and Octinoxate                                                                                                                                                                                                                                           1\n",
      "Avobenzone, Octinoxate, Octisalate                                                                                                                                                                                                                                                     1\n",
      "tramadol hydrochloride                                                                                                                                                                                                                                                                 1\n",
      "tapentadol hydrochloride                                                                                                                                                                                                                                                               1\n",
      "Metoprolol succinate                                                                                                                                                                                                                                                                   1\n",
      "Protriptyline Hydrochloride                                                                                                                                                                                                                                                            1\n",
      "fentanyl citrate                                                                                                                                                                                                                                                                       1\n",
      "Oat Grain                                                                                                                                                                                                                                                                              1\n",
      "Levothyroxine Sodium                                                                                                                                                                                                                                                                   1\n",
      "LOSARTAN POTASSIUM AND HYDROCHLOROTHIAZIDE                                                                                                                                                                                                                                             1\n",
      "Butalbital and Acetaminophen Tablets                                                                                                                                                                                                                                                   1\n",
      "Aloe socotrina, Alumina, Apis mellifica                                                                                                                                                                                                                                                1\n",
      "Folic Acid                                                                                                                                                                                                                                                                             1\n",
      "Dextromethorphan HBr, Guaifenesin                                                                                                                                                                                                                                                      1\n",
      "Aralia racemosa, Arsenicum album, Histaminum hydrochloricum, Nux vomica, Oleum animale, Phosphorus, Silicea, Sulphur                                                                                                                                                                   1\n",
      "FENTANYL                                                                                                                                                                                                                                                                               1\n",
      "fluvastatin sodium                                                                                                                                                                                                                                                                     1\n",
      "Eprosartan Mesylate and Hydrochlorothiazide                                                                                                                                                                                                                                            1\n",
      "Citalopram                                                                                                                                                                                                                                                                             1\n",
      "False Ragweed Bur                                                                                                                                                                                                                                                                      1\n",
      "Titanium Dioxide                                                                                                                                                                                                                                                                       1\n",
      "Bethanechol Chloride                                                                                                                                                                                                                                                                   1\n",
      "acetaminophen                                                                                                                                                                                                                                                                          1\n",
      "hydroxocobalamin                                                                                                                                                                                                                                                                       1\n",
      "Estradiol                                                                                                                                                                                                                                                                              1\n",
      "Nadolol                                                                                                                                                                                                                                                                                1\n",
      "FERRIC OXIDE RED                                                                                                                                                                                                                                                                       1\n",
      "Prazosin Hydrochloride                                                                                                                                                                                                                                                                 1\n",
      "doxepin hydrochloride                                                                                                                                                                                                                                                                  1\n",
      "Acetaminophen, Dextromethorphan Hydrobromide, Doxylamine Succinate                                                                                                                                                                                                                     1\n",
      "Losartan Potassium                                                                                                                                                                                                                                                                     1\n",
      "Treatment Set TS350393                                                                                                                                                                                                                                                                 1\n",
      "OCTINOXATE, TITANIUM DIOXIDE, and ZINC OXIDE                                                                                                                                                                                                                                           1\n",
      "Helium Oxygen Mixture                                                                                                                                                                                                                                                                  1\n",
      "Vancomycin Hydrochloride                                                                                                                                                                                                                                                               1\n",
      "Zinc Oxide, Titanium Dioxide                                                                                                                                                                                                                                                           1\n",
      "Boricum Gluconicum, Calcarea Gluconica, Chromium Gluconicum, Cobaltum Gluconicum, Cuprum Gluconicum                                                                                                                                                                                    1\n",
      "TITANIUM DIOXIDE and ZINC OXIDE                                                                                                                                                                                                                                                        1\n",
      "VANCOMYCIN HYDROCHLORIDE                                                                                                                                                                                                                                                               1\n",
      "Guaifenesin and Dextromethorphan Hydrobromide                                                                                                                                                                                                                                          1\n",
      "Chelidonium Majus, Hepar Suis, Cholesterinum, Lycopodium Clavatum, Tarentula Hispana, Arsenicum Album, Belladonna                                                                                                                                                                      1\n",
      "Avobenzone, Homosalate, Octisalate, Octocrylene, and Oxybenzone                                                                                                                                                                                                                        1\n",
      "Lemon                                                                                                                                                                                                                                                                                  1\n",
      "Loperamide Hydrochloride                                                                                                                                                                                                                                                               1\n",
      "famotidine, calcium carbonate and magnesium hydroxide                                                                                                                                                                                                                                  1\n",
      "fluvastatin                                                                                                                                                                                                                                                                            1\n",
      "Valacyclovir hydrochloride                                                                                                                                                                                                                                                             1\n",
      "Acetaminophen, Diphenhydramine HCl                                                                                                                                                                                                                                                     1\n",
      "cocoa butter, phenylephrine HCl                                                                                                                                                                                                                                                        1\n",
      "Norethindrone and Ethinyl Estradiol Tablets                                                                                                                                                                                                                                            1\n",
      "Octinoxate                                                                                                                                                                                                                                                                             1\n",
      "sodium selenite                                                                                                                                                                                                                                                                        1\n",
      "Rhodotorula mucilaginosa                                                                                                                                                                                                                                                               1\n",
      "Birch Black                                                                                                                                                                                                                                                                            1\n",
      "Lidocaine Hydrochloride-Menthol                                                                                                                                                                                                                                                        1\n",
      "House Dust                                                                                                                                                                                                                                                                             1\n",
      "SERTRALINE HYDROCHLORIDE                                                                                                                                                                                                                                                               1\n",
      "Duloxetine hydrochloride                                                                                                                                                                                                                                                               1\n",
      "nitroglycerin                                                                                                                                                                                                                                                                          1\n",
      "propafenone hydrochloride                                                                                                                                                                                                                                                              1\n",
      "Neurospora intermedia                                                                                                                                                                                                                                                                  1\n",
      "Purixan                                                                                                                                                                                                                                                                                1\n",
      "Acetaminophen, Dextromethorphan HBr, Doxylamine succinate                                                                                                                                                                                                                              1\n",
      "clonazepam                                                                                                                                                                                                                                                                             1\n",
      "ALTERNARIA TENUIS                                                                                                                                                                                                                                                                      1\n",
      "Aurum 5                                                                                                                                                                                                                                                                                1\n",
      "Senna and Docusate Sodium                                                                                                                                                                                                                                                              1\n",
      "Pseudoephedrine Hydrochloride                                                                                                                                                                                                                                                          1\n",
      "Norethindrone and Ethinyl Estradiol                                                                                                                                                                                                                                                    1\n",
      "Acetaminophen, Dextromethorphan Hydrobromide, Phenylephrine Hydrochloride                                                                                                                                                                                                              1\n",
      "romidepsin                                                                                                                                                                                                                                                                             1\n",
      "NEOMYCIN SULFATE                                                                                                                                                                                                                                                                       1\n",
      "Polyethylene Glycol 3350, Sodium Sulfate Anhydrous, Sodium Bicarbonate, Sodium Chloride, Potassium Chloride                                                                                                                                                                            1\n",
      "codeine phosphate and guaifenesin                                                                                                                                                                                                                                                      1\n",
      "bisoprolol fumarate and hydrochlorothiazide                                                                                                                                                                                                                                            1\n",
      "Phenazopyridine Hydrochloride                                                                                                                                                                                                                                                          1\n",
      "OCTINOXATE, TITANIUM DIOXIDE, DIMETHICONE, ALUMINUM HYDROXIDE, STEARIC ACID, HYDROXYPROLINE,                                                                                                                                                                                           1\n",
      "Aluminum Chlorohydrate                                                                                                                                                                                                                                                                 1\n",
      "Diltiazem Hydrochloride                                                                                                                                                                                                                                                                1\n",
      "Agnus castus, Aralia quinquefolia, Arnica montana, Damiana, Lactuca virosa, Natrum muriaticum, Onosmodium virginianum, Oophorinum, Phosphoricum acidum, Pituitarum posterium, Salix nigra, Sepia, Thuja occidentalis                                                                   1\n",
      "Lidocaine Hydrochloride                                                                                                                                                                                                                                                                1\n",
      "Mupirocin                                                                                                                                                                                                                                                                              1\n",
      "Urea Cream with Moisturizing Cream                                                                                                                                                                                                                                                     1\n",
      "TITANIUM DIOXIDE                                                                                                                                                                                                                                                                       1\n",
      "Salt Cedar                                                                                                                                                                                                                                                                             1\n",
      "Titanium dioxide and Zinc oxide                                                                                                                                                                                                                                                        1\n",
      "mupirocin                                                                                                                                                                                                                                                                              1\n",
      "amlodipine besylate and atorvastatin calcium                                                                                                                                                                                                                                           1\n",
      "Octisalate and Zinc Oxide                                                                                                                                                                                                                                                              1\n",
      "Duloxetine                                                                                                                                                                                                                                                                             1\n",
      "diazepam                                                                                                                                                                                                                                                                               1\n",
      "Ramipril                                                                                                                                                                                                                                                                               1\n",
      "Benzocaine                                                                                                                                                                                                                                                                             1\n",
      "bacitracin zinc, neomycin, polymyxin B                                                                                                                                                                                                                                                 1\n",
      "Carelessweed                                                                                                                                                                                                                                                                           1\n",
      "GRANISETRON HYDROCHLORIDE                                                                                                                                                                                                                                                              1\n",
      "Asterias rubens, Bryonia, Conium maculatum, Galium aparine, Hoang-nan, Lachesis mutus, Nux vomica, Ova tosta, Sepia and Viscum album                                                                                                                                                   1\n",
      "allopurinol                                                                                                                                                                                                                                                                            1\n",
      "HYDROCORTISONE                                                                                                                                                                                                                                                                         1\n",
      "OCTINOXATE, TITANIUM DIOXIDE, OXYBENZONE                                                                                                                                                                                                                                               1\n",
      "Naproxen Sodium                                                                                                                                                                                                                                                                        1\n",
      "ALUMINUM CHLOROHYDRATE                                                                                                                                                                                                                                                                 1\n",
      "levothyroxine sodium tablets                                                                                                                                                                                                                                                           1\n",
      "AVOBENZONE, OCTOCRYLENE, OXYBENZONE                                                                                                                                                                                                                                                    1\n",
      "estradiol acetate                                                                                                                                                                                                                                                                      1\n",
      "Diphenhydramine Hydrochloride and Zinc Acetate                                                                                                                                                                                                                                         1\n",
      "Hydrocodone Bitartrate and Ibuprofen                                                                                                                                                                                                                                                   1\n",
      "HOMOSALATE, OXYBENZONE, OCTISALATE, AVOBENZONE, OCTOCRYLENE                                                                                                                                                                                                                            1\n",
      "OCTINOXATE                                                                                                                                                                                                                                                                             1\n",
      "alcohol                                                                                                                                                                                                                                                                                1\n",
      "POLYVINYL ALCOHOL                                                                                                                                                                                                                                                                      1\n",
      "ezetimibe and simvastatin                                                                                                                                                                                                                                                              1\n",
      "Cucumber                                                                                                                                                                                                                                                                               1\n",
      "polidocanol                                                                                                                                                                                                                                                                            1\n",
      "ALUMINUM SULFATE                                                                                                                                                                                                                                                                       1\n",
      "Yellow Dock                                                                                                                                                                                                                                                                            1\n",
      "Enalapril Maleate                                                                                                                                                                                                                                                                      1\n",
      "Avobenzone, Octinoxate, Octisalate, Octocrylene                                                                                                                                                                                                                                        1\n",
      "albuterol sulfate                                                                                                                                                                                                                                                                      1\n",
      "Human chorionic gonadotropin (hCG),                                                                                                                                                                                                                                                    1\n",
      "Cypress Arizona                                                                                                                                                                                                                                                                        1\n",
      "TRICHOPHYTON MENTAGROPHYTES                                                                                                                                                                                                                                                            1\n",
      "amoxicillin                                                                                                                                                                                                                                                                            1\n",
      "Levonorgestrel and Ethinyl Estradiol                                                                                                                                                                                                                                                   1\n",
      "vilazodone hydrochloride                                                                                                                                                                                                                                                               1\n",
      "epinephrine                                                                                                                                                                                                                                                                            1\n",
      "sodium fluoride                                                                                                                                                                                                                                                                        1\n",
      "Antiseptic handwash                                                                                                                                                                                                                                                                    1\n",
      "ENALAPRIL MALEATE                                                                                                                                                                                                                                                                      1\n",
      "synthetic conjugated estrogens, B                                                                                                                                                                                                                                                      1\n",
      "MAGNESIUM CITRATE                                                                                                                                                                                                                                                                      1\n",
      "Soft Cheat Brome                                                                                                                                                                                                                                                                       1\n",
      "AVOBENZONE, OCTISALATE, OCTOCRYLENE                                                                                                                                                                                                                                                    1\n",
      "Hog Epithelium                                                                                                                                                                                                                                                                         1\n",
      "Sodium chloride                                                                                                                                                                                                                                                                        1\n",
      "PETROLATUM                                                                                                                                                                                                                                                                             1\n",
      "methimazole                                                                                                                                                                                                                                                                            1\n",
      "Arsenicum album, Calcarea carbonica, Ignatia amara Kali carbonicum, Lachesis mutus, Natrum muriaticum,                                                                                                                                                                                 1\n",
      "Gabapentin                                                                                                                                                                                                                                                                             1\n",
      "avobenzone, homosalate, octisalate, oxybenzone                                                                                                                                                                                                                                         1\n",
      "ACONITUM NAPELLUS and BRYONIA ALBA ROOT and PHOSPHORUS                                                                                                                                                                                                                                 1\n",
      "MENTHOL                                                                                                                                                                                                                                                                                1\n",
      "Aesculus hippocastanum, Arnica montana, Berberis vulgaris, Carbo vegetabilis, Echinacea angustifolia, Hamamelis virginiana, Hydrofluoricum acidum, Lycopodium clavatum, Secale cornutum, Sulfur                                                                                        1\n",
      "Cefprozil                                                                                                                                                                                                                                                                              1\n",
      "Captopril                                                                                                                                                                                                                                                                              1\n",
      "Cefuroxime                                                                                                                                                                                                                                                                             1\n",
      "HYDROQUINONE                                                                                                                                                                                                                                                                           1\n",
      "Strawberry                                                                                                                                                                                                                                                                             1\n",
      "Acetaminophen, Guaifenesin, Phenylephrine HCl                                                                                                                                                                                                                                          1\n",
      "octinoxate, avobenzone, and octocrylene                                                                                                                                                                                                                                                1\n",
      "Octinoxate and Titanium Dioxide                                                                                                                                                                                                                                                        1\n",
      "Eastern Cottonwood                                                                                                                                                                                                                                                                     1\n",
      "metformin hydrochloride                                                                                                                                                                                                                                                                1\n",
      "Homosalate Oxybenzone Octocrylene Octisalate Avobenzone                                                                                                                                                                                                                                1\n",
      "Tetracycline Hydrochloride                                                                                                                                                                                                                                                             1\n",
      "WATER                                                                                                                                                                                                                                                                                  1\n",
      "Simvastatin                                                                                                                                                                                                                                                                            1\n",
      "Camphor Menthol Methyl Salicylate                                                                                                                                                                                                                                                      1\n",
      "Formaldehyde                                                                                                                                                                                                                                                                           1\n",
      "isopropyl alcohol                                                                                                                                                                                                                                                                      1\n",
      "valsartan and hydrochlorothiazide                                                                                                                                                                                                                                                      1\n",
      "Hydrocortisone                                                                                                                                                                                                                                                                         1\n",
      "ACONITUM NAPELLUS, ARNICA MONTANA, LEDUM PALUSTRE TWIG, MAGNESIUM PHOSPHATE, DIBASIC TRIHYDRATE, TOXICODENDRON PUBESCENS LEAF, and VISCUM ALBUM FRUITING TOP                                                                                                                           1\n",
      "ACETAMINOPHEN and PYRILAMINE MALEATE                                                                                                                                                                                                                                                   1\n",
      "atorvastatin calcium                                                                                                                                                                                                                                                                   1\n",
      "Metoprolol Tartrate                                                                                                                                                                                                                                                                    1\n",
      "GINKGO BILOBA LEAF                                                                                                                                                                                                                                                                     1\n",
      "Water                                                                                                                                                                                                                                                                                  1\n",
      "benzocaine and glycerin                                                                                                                                                                                                                                                                1\n",
      "KAPOK                                                                                                                                                                                                                                                                                  1\n",
      "Heparin Sodium                                                                                                                                                                                                                                                                         1\n",
      "Hepatitis B Immune Globulin (Human)                                                                                                                                                                                                                                                    1\n",
      "lidocaine hydrochloride                                                                                                                                                                                                                                                                1\n",
      "Mountain Cedar                                                                                                                                                                                                                                                                         1\n",
      "Pyrazinamide                                                                                                                                                                                                                                                                           1\n",
      "Aurum Lavender Rose                                                                                                                                                                                                                                                                    1\n",
      "petrolatum                                                                                                                                                                                                                                                                             1\n",
      "Lidocaine Hydrochloride and Hydrocortisone Acetate                                                                                                                                                                                                                                     1\n",
      "Granisetron Hydrochloride                                                                                                                                                                                                                                                              1\n",
      "benztropine mesylate                                                                                                                                                                                                                                                                   1\n",
      "CALENDULA OFFICINALIS FLOWERING TOP                                                                                                                                                                                                                                                    1\n",
      "MYRRH GOLD                                                                                                                                                                                                                                                                             1\n",
      "Cefuroxime Axetil                                                                                                                                                                                                                                                                      1\n",
      "HYDROCODONE BITARTRATE AND IBUPROFEN                                                                                                                                                                                                                                                   1\n",
      "Levocetirizine Dihydrochloride                                                                                                                                                                                                                                                         1\n",
      "CONJUGATED ESTROGENS and MEDROXYPROGESTERONE ACETATE                                                                                                                                                                                                                                   1\n",
      "MAGNESIUM HYDROXIDE                                                                                                                                                                                                                                                                    1\n",
      "Oats, Common, Cultivated Avena sativa                                                                                                                                                                                                                                                  1\n",
      "Doxazosin                                                                                                                                                                                                                                                                              1\n",
      "MOMETASONE FUROATE                                                                                                                                                                                                                                                                     1\n",
      "Medroxyprogesterone Acetate                                                                                                                                                                                                                                                            1\n",
      "Promethazine Hydrochloride                                                                                                                                                                                                                                                             1\n",
      "sildenafil citrate                                                                                                                                                                                                                                                                     1\n",
      "Potassium Iodide                                                                                                                                                                                                                                                                       1\n",
      "Tretinoin                                                                                                                                                                                                                                                                              1\n",
      "Pectin and Echinacea Purpurea                                                                                                                                                                                                                                                          1\n",
      "ZINC OXIDE, OCTINOXATE, and OCTISALATE                                                                                                                                                                                                                                                 1\n",
      "donepezil hydrochloride                                                                                                                                                                                                                                                                1\n",
      "zinc acetate                                                                                                                                                                                                                                                                           1\n",
      "Fibrinogen Human Thrombin Human                                                                                                                                                                                                                                                        1\n",
      "MINERAL OIL,PETROLATUM,PHENYLEPHRINE                                                                                                                                                                                                                                                   1\n",
      "OCTINOXATE, OXYBENZONE, TITANIUM DIOXIDE                                                                                                                                                                                                                                               1\n",
      "DEXTROMETHORPHAN HYDROBROMIDE, GUAIFENESIN, PHENYLEPHRINE HYDROCHLORIDE                                                                                                                                                                                                                1\n",
      "Trandolapril                                                                                                                                                                                                                                                                           1\n",
      "Bupropion Hydrochloride                                                                                                                                                                                                                                                                1\n",
      "Agnus 30c, Aurum Nat Mur. 30c, Aletris 30c, Dioscorea 30c                                                                                                                                                                                                                              1\n",
      "Miconazole Nitrate                                                                                                                                                                                                                                                                     1\n",
      "acitretin                                                                                                                                                                                                                                                                              1\n",
      "TRAMETES VERSICOLOR FRUITING BODY                                                                                                                                                                                                                                                      1\n",
      "ESCITALOPRAM OXALATE                                                                                                                                                                                                                                                                   1\n",
      "Para Grass Pollen                                                                                                                                                                                                                                                                      1\n",
      "CEFTAZIDIME                                                                                                                                                                                                                                                                            1\n",
      "Mango Blossom                                                                                                                                                                                                                                                                          1\n",
      "Propranolol Hydrochloride                                                                                                                                                                                                                                                              1\n",
      "Calcium carbonate and Magnesium hydroxide                                                                                                                                                                                                                                              1\n",
      "LACTULOSE                                                                                                                                                                                                                                                                              1\n",
      "Furosemide                                                                                                                                                                                                                                                                             1\n",
      "ACETAMINOPHEN, DOXYLAMINE SUCCINATE HCL, DEXTROMETHORPHAN HYDROBROMIDE                                                                                                                                                                                                                 1\n",
      "peginterferon alfa-2b                                                                                                                                                                                                                                                                  1\n",
      "Rough Marsh Elder                                                                                                                                                                                                                                                                      1\n",
      "ERYTHROMYCIN STEARATE                                                                                                                                                                                                                                                                  1\n",
      "ZINC OXIDE                                                                                                                                                                                                                                                                             1\n",
      "ATRACTYLODES JAPONICA ROOT                                                                                                                                                                                                                                                             1\n",
      "DROSERA ROTUNDIFOLIA                                                                                                                                                                                                                                                                   1\n",
      "Fluoxetine                                                                                                                                                                                                                                                                             1\n",
      "Hormodendrum                                                                                                                                                                                                                                                                           1\n",
      "Privet                                                                                                                                                                                                                                                                                 1\n",
      "Cyclopentolate Hydrochloride                                                                                                                                                                                                                                                           1\n",
      "VERAPAMIL HYDROCHLORIDE                                                                                                                                                                                                                                                                1\n",
      "Uricum acidum, Benzoicum acidum, Berber. vulg., Bryonia, Cantharis, Carduus benedictus, Ceanothus, Chelidonium majus, Chionanthus virginica, Cinchona, Dioscorea, Dolichos, Iris versicolor, Juniperus com., Nux vom., Ptelea, Taraxacum, Carduus mar., Cynara scolymus, Solidago      1\n",
      "WITCH HAZEL                                                                                                                                                                                                                                                                            1\n",
      "methylcellulose                                                                                                                                                                                                                                                                        1\n",
      "TRIHEXYPHENIDYL HYDROCHLORIDE                                                                                                                                                                                                                                                          1\n",
      "OCTINOXATE, OCTISALATE, ZINC OXIDE, OXYBENZONE                                                                                                                                                                                                                                         1\n",
      "Magesium Citrate                                                                                                                                                                                                                                                                       1\n",
      "Ammonium Lactate                                                                                                                                                                                                                                                                       1\n",
      ".beta.-carotene, ascorbic acid, cholecalciferol, .alpha.-tocopherol acetate, dl-, thiamine mononitrate, riboflavin, niacinamide, pyridoxine hydrochloride, folic acid, cyanocobalamin, calcium carbonate, ferrous fumarate, potassium iodide and zinc oxide                            1\n",
      "triamcinolone acetonide                                                                                                                                                                                                                                                                1\n",
      "Ketoconazole                                                                                                                                                                                                                                                                           1\n",
      "Warfarin Sodium                                                                                                                                                                                                                                                                        1\n",
      "Acetaminophen, Aspirin, Caffeine                                                                                                                                                                                                                                                       1\n",
      "Eucalyptol                                                                                                                                                                                                                                                                             1\n",
      "tobramycin and dexamethasone                                                                                                                                                                                                                                                           1\n",
      "benzocaine                                                                                                                                                                                                                                                                             1\n",
      "morphine sulfate                                                                                                                                                                                                                                                                       1\n",
      "diphenhydramine citrate and ibuprofen                                                                                                                                                                                                                                                  1\n",
      "AVOBENZONE, OCTINOXATE,OCTISALATE                                                                                                                                                                                                                                                      1\n",
      "fomepizole                                                                                                                                                                                                                                                                             1\n",
      "dextromethorphan polistirex                                                                                                                                                                                                                                                            1\n",
      "mesna                                                                                                                                                                                                                                                                                  1\n",
      "Pyrithione zinc                                                                                                                                                                                                                                                                        1\n",
      "Leucine, Phenylalanine, Lysine, Methionine, Isoleucine, Valine, Histidine, Threonine, Tryptophan, Alanine, Glycine, Arginine, Proline, Serine, Tyrosine, Dextrose                                                                                                                      1\n",
      "Ketorolac Tromethamine                                                                                                                                                                                                                                                                 1\n",
      "clobazam                                                                                                                                                                                                                                                                               1\n",
      "ABILIFY                                                                                                                                                                                                                                                                                1\n",
      "cysteamine hydrochloride                                                                                                                                                                                                                                                               1\n",
      "MIDODRINE HYDROCHLORIDE                                                                                                                                                                                                                                                                1\n",
      "AVOBENZONE, OCTINOXATE, OCTISALATE, OCTOCRYLENE                                                                                                                                                                                                                                        1\n",
      "bethanechol chloride                                                                                                                                                                                                                                                                   1\n",
      "norethindrone acetate and ethinyl estradiol and ferrous fumarate                                                                                                                                                                                                                       1\n",
      "amoxicillin and clavulanate potassium                                                                                                                                                                                                                                                  1\n",
      "levothyroxine sodium                                                                                                                                                                                                                                                                   1\n",
      "ketoconazole                                                                                                                                                                                                                                                                           1\n",
      "Pantoprazole Sodium                                                                                                                                                                                                                                                                    1\n",
      "Sodium Fluoride F-18                                                                                                                                                                                                                                                                   1\n",
      "AMOXICILLIN                                                                                                                                                                                                                                                                            1\n",
      "California Black Walnut                                                                                                                                                                                                                                                                1\n",
      "Glyburide                                                                                                                                                                                                                                                                              1\n",
      "Methyl salicylate, Menthol, Capsaicin                                                                                                                                                                                                                                                  1\n",
      "octinoxate, octisalate, octocrylene, oxybenzone                                                                                                                                                                                                                                        1\n",
      "Natural Medicine                                                                                                                                                                                                                                                                       1\n",
      "NITROGEN                                                                                                                                                                                                                                                                               1\n",
      "Docusate sodium and Sennosides                                                                                                                                                                                                                                                         1\n",
      "Pineapple                                                                                                                                                                                                                                                                              1\n",
      "Sertraline Hydrochloride                                                                                                                                                                                                                                                               1\n",
      "ACETAMINOPHEN                                                                                                                                                                                                                                                                          1\n",
      "Pyrithione Zinc                                                                                                                                                                                                                                                                        1\n",
      "Metaxalone                                                                                                                                                                                                                                                                             1\n",
      "Octinoxate, Titanium Dioxide                                                                                                                                                                                                                                                           1\n",
      "Dextromethophan Hydrobromide, Chlorpheniramine Maleate, Phenylephrine Hydrochloride                                                                                                                                                                                                    1\n",
      "Aluminum Zirconium Pentachlorohydrex Gly                                                                                                                                                                                                                                               1\n",
      "Apis Rhus                                                                                                                                                                                                                                                                              1\n",
      "Venlafaxine Hydrochloride                                                                                                                                                                                                                                                              1\n",
      "Hydrogen Peroxide                                                                                                                                                                                                                                                                      1\n",
      "Hydrocortisone Acetate                                                                                                                                                                                                                                                                 1\n",
      "Psyllium Husks                                                                                                                                                                                                                                                                         1\n",
      "Diphenhydramine Hydrochloride                                                                                                                                                                                                                                                          1\n",
      "Chlorpheniramine Maleate                                                                                                                                                                                                                                                               1\n",
      "Droperidol                                                                                                                                                                                                                                                                             1\n",
      "aluminum hydroxide, magnesium carbonate, sodium bicarbonate                                                                                                                                                                                                                            1\n",
      "Metoclopramide Hydrochloride                                                                                                                                                                                                                                                           1\n",
      "Spasms Weakness                                                                                                                                                                                                                                                                        1\n",
      "Lansoprazole                                                                                                                                                                                                                                                                           1\n",
      "Ranitidine Hydrochloride                                                                                                                                                                                                                                                               1\n",
      "Topiramate                                                                                                                                                                                                                                                                             1\n",
      "BENZETHONIUM CHLORIDE                                                                                                                                                                                                                                                                  1\n",
      "SOYBEAN OIL                                                                                                                                                                                                                                                                            1\n",
      "Enoxaparin Sodium                                                                                                                                                                                                                                                                      1\n",
      "acetaminophen, dextromethorphan Hbr, Phenylephrine HCl                                                                                                                                                                                                                                 1\n",
      "PSEUDOGNAPHALIUM OBTUSIFOLIUM, CAUSTICUM, COLCHICUM AUTUMNALE BULB, CITRULLUS COLOCYNTHIS FRUIT PULP, IRON, LITHIUM BENZOATE, TOXICODENDRON PUBESCENS LEAF and FILIPENDULA ULMARIA ROOT                                                                                                1\n",
      "dimethicone, octinoxate, octisalate, oxybenzone                                                                                                                                                                                                                                        1\n",
      "CETYLPYRIDINIUM CHLORIDE                                                                                                                                                                                                                                                               1\n",
      "SALICYLIC ACID, TITANIUM DIOXIDE, ZINC OXIDE                                                                                                                                                                                                                                           1\n",
      "Avobenzone, Octinoxate, Octisalate, Oxybenzone                                                                                                                                                                                                                                         1\n",
      "IRON SUPPLEMENT                                                                                                                                                                                                                                                                        1\n",
      "OXYBENZONE, AVOBENZONE, OCTOCRYLENE                                                                                                                                                                                                                                                    1\n",
      "Mirtazapine                                                                                                                                                                                                                                                                            1\n",
      "POVIDONE-IODINE                                                                                                                                                                                                                                                                        1\n",
      "alnus incana subsp. rugosa pollen                                                                                                                                                                                                                                                      1\n",
      "Glipizide and Metformin Hydrochloride                                                                                                                                                                                                                                                  1\n",
      "Valsartan and Hydrochlorothiazide                                                                                                                                                                                                                                                      1\n",
      "Atorvastatin Calcium                                                                                                                                                                                                                                                                   1\n",
      "Docetaxel                                                                                                                                                                                                                                                                              1\n",
      "Erythromycin                                                                                                                                                                                                                                                                           1\n",
      "Green Pea English                                                                                                                                                                                                                                                                      1\n",
      "phytonadione                                                                                                                                                                                                                                                                           1\n",
      "clocortolone pivalate                                                                                                                                                                                                                                                                  1\n",
      "Lisinopril and hydrochlorothiazide                                                                                                                                                                                                                                                     1\n",
      "Triclocarban                                                                                                                                                                                                                                                                           1\n",
      "avobenzone, homosalate, octisalate, octocrylene                                                                                                                                                                                                                                        1\n",
      "LYTTA VESICATORIA                                                                                                                                                                                                                                                                      1\n",
      "Name: prescribed_medicines, dtype: int64\n",
      "-------------------------------------------------------------------\n",
      "no diagnosis    457\n",
      "T2169             2\n",
      "S83409            1\n",
      "E875              1\n",
      "S83111D           1\n",
      "S82151B           1\n",
      "S52541S           1\n",
      "S60041D           1\n",
      "M86451            1\n",
      "S82156G           1\n",
      "S12351            1\n",
      "T25021D           1\n",
      "W0111             1\n",
      "G5783             1\n",
      "S66313D           1\n",
      "S27898S           1\n",
      "S89049A           1\n",
      "S92334G           1\n",
      "T3292             1\n",
      "T23291D           1\n",
      "V346XXS           1\n",
      "I741              1\n",
      "T23609S           1\n",
      "M60162            1\n",
      "S82243J           1\n",
      "W9431XA           1\n",
      "S52322G           1\n",
      "T68XXXS           1\n",
      "S73129S           1\n",
      "M0684             1\n",
      "M8916             1\n",
      "C944              1\n",
      "S52699A           1\n",
      "Z283              1\n",
      "S49039P           1\n",
      "K1233             1\n",
      "V401XXA           1\n",
      "S72361C           1\n",
      "H01021            1\n",
      "S62122D           1\n",
      "S63006            1\n",
      "S82134D           1\n",
      "M02812            1\n",
      "I669              1\n",
      "S46019D           1\n",
      "G9341             1\n",
      "S82114            1\n",
      "Z451              1\n",
      "S065X1A           1\n",
      "S0041             1\n",
      "T6192XD           1\n",
      "S82264J           1\n",
      "S01311A           1\n",
      "S1989XS           1\n",
      "M84433A           1\n",
      "H40041            1\n",
      "S9086             1\n",
      "T468X3A           1\n",
      "S055              1\n",
      "Y62               1\n",
      "S96112            1\n",
      "S56108            1\n",
      "H0243             1\n",
      "T457X6S           1\n",
      "M84631A           1\n",
      "S76091D           1\n",
      "H04131            1\n",
      "T8743             1\n",
      "T84192S           1\n",
      "C858              1\n",
      "M342              1\n",
      "Z13               1\n",
      "E1340             1\n",
      "S92911G           1\n",
      "S52224S           1\n",
      "S83409A           1\n",
      "M308              1\n",
      "V879XXS           1\n",
      "S6610             1\n",
      "V711              1\n",
      "M84573P           1\n",
      "S12551B           1\n",
      "M80871D           1\n",
      "T618X2D           1\n",
      "S42324A           1\n",
      "S62656            1\n",
      "S82155H           1\n",
      "S72443Q           1\n",
      "T501X5D           1\n",
      "T8511             1\n",
      "S93333A           1\n",
      "I83011            1\n",
      "S4292XA           1\n",
      "M41117            1\n",
      "S63295            1\n",
      "S46899            1\n",
      "K869              1\n",
      "X35XXXD           1\n",
      "H5017             1\n",
      "F199              1\n",
      "D173              1\n",
      "T34531S           1\n",
      "L971              1\n",
      "T81591A           1\n",
      "A369              1\n",
      "S72423S           1\n",
      "T4271             1\n",
      "H04211            1\n",
      "M80071S           1\n",
      "M8080XP           1\n",
      "T523X1A           1\n",
      "S72354P           1\n",
      "I82711            1\n",
      "X004XXD           1\n",
      "S46919A           1\n",
      "M0570             1\n",
      "T7114             1\n",
      "S72091S           1\n",
      "T444X6A           1\n",
      "T39091S           1\n",
      "S2091XS           1\n",
      "S82146S           1\n",
      "H11142            1\n",
      "M84334K           1\n",
      "S01102A           1\n",
      "Z825              1\n",
      "M110              1\n",
      "M2434             1\n",
      "S6111             1\n",
      "S92812D           1\n",
      "S12690D           1\n",
      "M2441             1\n",
      "S52392D           1\n",
      "M12322            1\n",
      "O26812            1\n",
      "Z044              1\n",
      "S52009D           1\n",
      "S52311G           1\n",
      "J633              1\n",
      "V97811S           1\n",
      "S58922            1\n",
      "S59801            1\n",
      "S21049S           1\n",
      "O26852            1\n",
      "S80262            1\n",
      "H11022            1\n",
      "S42154G           1\n",
      "S91222D           1\n",
      "O280              1\n",
      "S42424S           1\n",
      "K754              1\n",
      "T22342A           1\n",
      "S63266            1\n",
      "S72321R           1\n",
      "S63232            1\n",
      "S66100D           1\n",
      "M6127             1\n",
      "W5612XD           1\n",
      "Q122              1\n",
      "M88871            1\n",
      "S27432            1\n",
      "O43892            1\n",
      "T40993            1\n",
      "Y37220S           1\n",
      "T80218            1\n",
      "V830XXD           1\n",
      "S63035S           1\n",
      "S52236A           1\n",
      "S42222D           1\n",
      "S12030D           1\n",
      "X928              1\n",
      "S98321            1\n",
      "S420              1\n",
      "S12390D           1\n",
      "S91153S           1\n",
      "T481X4            1\n",
      "L97213            1\n",
      "S72456Q           1\n",
      "M7101             1\n",
      "M1023             1\n",
      "S62134B           1\n",
      "S5620             1\n",
      "S72144E           1\n",
      "S53449            1\n",
      "T550X2            1\n",
      "M12451            1\n",
      "W621XXS           1\n",
      "S62327B           1\n",
      "Y248              1\n",
      "V541XXD           1\n",
      "T3182             1\n",
      "S62235D           1\n",
      "S01112            1\n",
      "H04313            1\n",
      "I2111             1\n",
      "S32058K           1\n",
      "S85102A           1\n",
      "S83112A           1\n",
      "S60212            1\n",
      "S70319A           1\n",
      "S62654G           1\n",
      "W132XXD           1\n",
      "S27391S           1\n",
      "G7089             1\n",
      "T5392XS           1\n",
      "T675XXS           1\n",
      "M2361             1\n",
      "X52XXXS           1\n",
      "S82422J           1\n",
      "M8972             1\n",
      "S25811D           1\n",
      "S238XXS           1\n",
      "S3215XB           1\n",
      "O324XX3           1\n",
      "W139XXD           1\n",
      "S92101S           1\n",
      "A849              1\n",
      "S72345C           1\n",
      "V666XXD           1\n",
      "S8314             1\n",
      "I308              1\n",
      "S72309N           1\n",
      "R4184             1\n",
      "G328              1\n",
      "S40811            1\n",
      "N7681             1\n",
      "S153              1\n",
      "S82035M           1\n",
      "Y37251D           1\n",
      "Y383X2A           1\n",
      "O3620X1           1\n",
      "A1859             1\n",
      "K80               1\n",
      "S56403S           1\n",
      "S62185            1\n",
      "R4921             1\n",
      "M11849            1\n",
      "M1A0320           1\n",
      "T80212S           1\n",
      "V877              1\n",
      "S59802A           1\n",
      "S92491            1\n",
      "V00811A           1\n",
      "V9313XA           1\n",
      "T85828            1\n",
      "S72445D           1\n",
      "V00832S           1\n",
      "S56221S           1\n",
      "A154              1\n",
      "H11012            1\n",
      "V733              1\n",
      "T63591S           1\n",
      "S92222K           1\n",
      "G318              1\n",
      "M2325             1\n",
      "S42333G           1\n",
      "N2885             1\n",
      "T63414A           1\n",
      "S31119D           1\n",
      "S61122            1\n",
      "C9251             1\n",
      "G4759             1\n",
      "M1A10X0           1\n",
      "T366X5D           1\n",
      "P0734             1\n",
      "T467X1S           1\n",
      "S42262A           1\n",
      "S8390             1\n",
      "Q226              1\n",
      "H5052             1\n",
      "V9361XD           1\n",
      "V2960XA           1\n",
      "C8469             1\n",
      "M84569D           1\n",
      "T401X1S           1\n",
      "J960              1\n",
      "S25492D           1\n",
      "S88911A           1\n",
      "H15012            1\n",
      "S3792XA           1\n",
      "T433X6A           1\n",
      "R098              1\n",
      "D1339             1\n",
      "S82201P           1\n",
      "T8386XS           1\n",
      "M66352            1\n",
      "S4342             1\n",
      "O9122             1\n",
      "S660              1\n",
      "K51519            1\n",
      "S42491G           1\n",
      "A241              1\n",
      "S42455K           1\n",
      "S14135D           1\n",
      "T2682XD           1\n",
      "S01152S           1\n",
      "S82254B           1\n",
      "T8242XA           1\n",
      "S3510XD           1\n",
      "S20362A           1\n",
      "V8672XD           1\n",
      "S12101            1\n",
      "L0233             1\n",
      "Y3709             1\n",
      "R402433           1\n",
      "T23269            1\n",
      "A3685             1\n",
      "M4632             1\n",
      "S11021            1\n",
      "T507X3            1\n",
      "S0280XD           1\n",
      "M84432            1\n",
      "S82022H           1\n",
      "M2637             1\n",
      "T6306             1\n",
      "S85189            1\n",
      "S89041            1\n",
      "W2107XD           1\n",
      "S42212G           1\n",
      "S60522            1\n",
      "S82452            1\n",
      "M2555             1\n",
      "S06378S           1\n",
      "S72452A           1\n",
      "H1812             1\n",
      "P780              1\n",
      "H011              1\n",
      "H47021            1\n",
      "S89299D           1\n",
      "S52254G           1\n",
      "B352              1\n",
      "S72346H           1\n",
      "O693              1\n",
      "S02632K           1\n",
      "T311              1\n",
      "Q051              1\n",
      "S59192S           1\n",
      "M84453G           1\n",
      "V4950XA           1\n",
      "T475X6A           1\n",
      "S53101D           1\n",
      "S36202D           1\n",
      "L441              1\n",
      "T466X5A           1\n",
      "Z8541             1\n",
      "Y3593XA           1\n",
      "T63592            1\n",
      "C130              1\n",
      "M00052            1\n",
      "T23109A           1\n",
      "S82041K           1\n",
      "H401422           1\n",
      "W1692XD           1\n",
      "O29013            1\n",
      "O360114           1\n",
      "B161              1\n",
      "S61419A           1\n",
      "W16021            1\n",
      "S65011            1\n",
      "S6791XS           1\n",
      "S72455A           1\n",
      "S56113D           1\n",
      "S471XXD           1\n",
      "S52243H           1\n",
      "F10250            1\n",
      "S3590XS           1\n",
      "S76119S           1\n",
      "I159              1\n",
      "G9529             1\n",
      "S82466H           1\n",
      "M87252            1\n",
      "I70429            1\n",
      "M10372            1\n",
      "T65893S           1\n",
      "M24474            1\n",
      "H0019             1\n",
      "S37531A           1\n",
      "R203              1\n",
      "M7981             1\n",
      "S3134XA           1\n",
      "S298              1\n",
      "S00552A           1\n",
      "Q51               1\n",
      "S72445M           1\n",
      "S52251K           1\n",
      "V4351XS           1\n",
      "S82112N           1\n",
      "O368920           1\n",
      "S63694A           1\n",
      "S52043K           1\n",
      "S353              1\n",
      "T24602A           1\n",
      "S92523P           1\n",
      "H4050X1           1\n",
      "S42016B           1\n",
      "T508X6            1\n",
      "S52122B           1\n",
      "T374X3A           1\n",
      "B3323             1\n",
      "G4762             1\n",
      "P920              1\n",
      "S52109H           1\n",
      "T3185             1\n",
      "S83105A           1\n",
      "S82045H           1\n",
      "T6403XS           1\n",
      "S34102            1\n",
      "Y92232            1\n",
      "G718              1\n",
      "S67192A           1\n",
      "S062X0D           1\n",
      "H16243            1\n",
      "V110XXS           1\n",
      "V722XXS           1\n",
      "M80842K           1\n",
      "A669              1\n",
      "S590              1\n",
      "M205X             1\n",
      "B972              1\n",
      "T402X6S           1\n",
      "T81507S           1\n",
      "T86898            1\n",
      "S99132G           1\n",
      "O30829            1\n",
      "M7133             1\n",
      "O42911            1\n",
      "S82265K           1\n",
      "O2252             1\n",
      "W320XXD           1\n",
      "G4011             1\n",
      "H1604             1\n",
      "H4913             1\n",
      "S89221            1\n",
      "S82425B           1\n",
      "S72425H           1\n",
      "M65232            1\n",
      "S2222             1\n",
      "S53015S           1\n",
      "S66319A           1\n",
      "S52256B           1\n",
      "V0111XS           1\n",
      "S90549D           1\n",
      "T82868            1\n",
      "S63439D           1\n",
      "D683              1\n",
      "S49112            1\n",
      "S91322S           1\n",
      "T63444S           1\n",
      "Y9302             1\n",
      "H44119            1\n",
      "S20301            1\n",
      "S52041C           1\n",
      "S92223A           1\n",
      "M80072A           1\n",
      "I69261            1\n",
      "V9101             1\n",
      "S73011            1\n",
      "V559XXD           1\n",
      "R871              1\n",
      "T43634A           1\n",
      "S0269XB           1\n",
      "S31101D           1\n",
      "S72455J           1\n",
      "V9605XD           1\n",
      "T440X4A           1\n",
      "J8411             1\n",
      "M80012K           1\n",
      "S68711S           1\n",
      "T82118S           1\n",
      "M05161            1\n",
      "Z020              1\n",
      "T24701S           1\n",
      "T468X5S           1\n",
      "N99533            1\n",
      "S52331B           1\n",
      "S42024D           1\n",
      "H31329            1\n",
      "S99102G           1\n",
      "I850              1\n",
      "M80822K           1\n",
      "S52245J           1\n",
      "S95091S           1\n",
      "T17390            1\n",
      "J208              1\n",
      "A928              1\n",
      "Name: diagnosis, dtype: int64\n",
      "-------------------------------------------------------------------\n"
     ]
    }
   ],
   "source": [
    "for i in ['patient_gender', 'doctor_name', 'prescribed_medicines', 'diagnosis']:\n",
    "    print(patients[i].value_counts())\n",
    "    print('-------------------------------------------------------------------')"
   ]
  },
  {
   "cell_type": "markdown",
   "metadata": {},
   "source": [
    "#### The number of unique values is large for all three columns except `patient_gender`. We will handle these columns differently.\n",
    "\n",
    "For `diagnosis`, there are too many unique values which will make ML difficult. However, we can re-encode the values to either with or without diagnosis. Remember at an earlier step we filled in the missing values of this column with *no diagnosis*? We can re-encode *no diagnosis* to `0` and all other values to `1`. In this way we can tremendously simply this column.\n",
    "\n",
    "For `prescribed_medicines`, we can drop this column because it is perfectly correlated with `diagnosis`. Whenever there is no diagnosis, there is no prescribed medicine. So we don't need to keep this duplicated data.\n",
    "\n",
    "How about `doctor_name`? There are not excessive unique values but still quite many (19). We may either drop or keep it but keeping it will make the analysis more complicated. So due to the length of this lab let's drop it.\n",
    "\n",
    "How about `gender`? This one is easy. Just like re-encoding the boolean values, we can re-encode gender to `0` and `1` because there are only 2 unique values.\n",
    "\n",
    "In the next cells, do the following:\n",
    "\n",
    "1. Create a new column called `diagnosis_int` that has `0` and `1` based on the values in `diagnosis`.\n",
    "\n",
    "1. Create a new column called `patient_gender_int` that has `0` and `1` based on the values in `patient_gender`.\n",
    "\n",
    "1. Drop the following columns: `doctor_name`, `diagnosis`, `prescribed_medicines`, and `patient_gender`."
   ]
  },
  {
   "cell_type": "code",
   "execution_count": 113,
   "metadata": {
    "ExecuteTime": {
     "end_time": "2019-10-31T19:44:43.474610Z",
     "start_time": "2019-10-31T19:44:43.470112Z"
    }
   },
   "outputs": [],
   "source": [
    "# Diagnosis:\n",
    "def diagnosis_changer(string):\n",
    "    if string == 'no diagnosis':\n",
    "        return 0\n",
    "    else:\n",
    "        return 1\n",
    "\n",
    "patients['diagnosis_int'] = patients.diagnosis.map(diagnosis_changer)"
   ]
  },
  {
   "cell_type": "code",
   "execution_count": 116,
   "metadata": {
    "ExecuteTime": {
     "end_time": "2019-10-31T19:47:02.660514Z",
     "start_time": "2019-10-31T19:47:02.651493Z"
    }
   },
   "outputs": [],
   "source": [
    "# Gender:\n",
    "def gender_changer(string):\n",
    "    if string == 'Male':\n",
    "        return 0\n",
    "    else:\n",
    "        return 1\n",
    "\n",
    "patients['patient_gender_int'] = patients.patient_gender.map(gender_changer)"
   ]
  },
  {
   "cell_type": "code",
   "execution_count": 118,
   "metadata": {
    "ExecuteTime": {
     "end_time": "2019-10-31T19:48:03.013977Z",
     "start_time": "2019-10-31T19:48:03.005623Z"
    }
   },
   "outputs": [],
   "source": [
    "patients.drop(columns=['doctor_name', 'diagnosis', 'prescribed_medicines', 'patient_gender'], inplace=True)"
   ]
  },
  {
   "cell_type": "markdown",
   "metadata": {},
   "source": [
    "Let's look at the head again to ensure the re-encoding and dropping are successful:"
   ]
  },
  {
   "cell_type": "code",
   "execution_count": 121,
   "metadata": {
    "ExecuteTime": {
     "end_time": "2019-10-31T19:49:06.702470Z",
     "start_time": "2019-10-31T19:49:06.687172Z"
    }
   },
   "outputs": [
    {
     "data": {
      "text/html": [
       "<div>\n",
       "<style scoped>\n",
       "    .dataframe tbody tr th:only-of-type {\n",
       "        vertical-align: middle;\n",
       "    }\n",
       "\n",
       "    .dataframe tbody tr th {\n",
       "        vertical-align: top;\n",
       "    }\n",
       "\n",
       "    .dataframe thead th {\n",
       "        text-align: right;\n",
       "    }\n",
       "</style>\n",
       "<table border=\"1\" class=\"dataframe\">\n",
       "  <thead>\n",
       "    <tr style=\"text-align: right;\">\n",
       "      <th></th>\n",
       "      <th>patient_diabetic</th>\n",
       "      <th>patient_allergic</th>\n",
       "      <th>patient_weight_kg</th>\n",
       "      <th>patient_height_sm</th>\n",
       "      <th>patient_show</th>\n",
       "      <th>is_regular_visit</th>\n",
       "      <th>diagnosis_int</th>\n",
       "      <th>patient_gender_int</th>\n",
       "    </tr>\n",
       "  </thead>\n",
       "  <tbody>\n",
       "    <tr>\n",
       "      <th>0</th>\n",
       "      <td>0</td>\n",
       "      <td>1</td>\n",
       "      <td>59</td>\n",
       "      <td>176</td>\n",
       "      <td>1</td>\n",
       "      <td>1</td>\n",
       "      <td>1</td>\n",
       "      <td>1</td>\n",
       "    </tr>\n",
       "    <tr>\n",
       "      <th>1</th>\n",
       "      <td>0</td>\n",
       "      <td>1</td>\n",
       "      <td>77</td>\n",
       "      <td>186</td>\n",
       "      <td>1</td>\n",
       "      <td>1</td>\n",
       "      <td>0</td>\n",
       "      <td>1</td>\n",
       "    </tr>\n",
       "    <tr>\n",
       "      <th>2</th>\n",
       "      <td>1</td>\n",
       "      <td>1</td>\n",
       "      <td>90</td>\n",
       "      <td>177</td>\n",
       "      <td>0</td>\n",
       "      <td>0</td>\n",
       "      <td>0</td>\n",
       "      <td>1</td>\n",
       "    </tr>\n",
       "    <tr>\n",
       "      <th>3</th>\n",
       "      <td>1</td>\n",
       "      <td>1</td>\n",
       "      <td>70</td>\n",
       "      <td>150</td>\n",
       "      <td>0</td>\n",
       "      <td>1</td>\n",
       "      <td>0</td>\n",
       "      <td>0</td>\n",
       "    </tr>\n",
       "    <tr>\n",
       "      <th>4</th>\n",
       "      <td>0</td>\n",
       "      <td>1</td>\n",
       "      <td>82</td>\n",
       "      <td>140</td>\n",
       "      <td>0</td>\n",
       "      <td>0</td>\n",
       "      <td>0</td>\n",
       "      <td>1</td>\n",
       "    </tr>\n",
       "  </tbody>\n",
       "</table>\n",
       "</div>"
      ],
      "text/plain": [
       "   patient_diabetic  patient_allergic  patient_weight_kg  patient_height_sm  \\\n",
       "0                 0                 1                 59                176   \n",
       "1                 0                 1                 77                186   \n",
       "2                 1                 1                 90                177   \n",
       "3                 1                 1                 70                150   \n",
       "4                 0                 1                 82                140   \n",
       "\n",
       "   patient_show  is_regular_visit  diagnosis_int  patient_gender_int  \n",
       "0             1                 1              1                   1  \n",
       "1             1                 1              0                   1  \n",
       "2             0                 0              0                   1  \n",
       "3             0                 1              0                   0  \n",
       "4             0                 0              0                   1  "
      ]
     },
     "execution_count": 121,
     "metadata": {},
     "output_type": "execute_result"
    }
   ],
   "source": [
    "patients.head()"
   ]
  },
  {
   "cell_type": "markdown",
   "metadata": {},
   "source": [
    "An interesting observation is that all patients are no older than 2 years. However, their weights and heights indicate that they are adults. This cannot be true. Therefore, we can either trust the weight and height columns or the DOB column. Since there are other columns that indicate that these are adults (they have emails, some have diabetes) we will drop the `patient_dob` column. We will also drop the `appointment_date` column since it has too many unique values to transform to a dummy variable. Drop the two columns in the cell below."
   ]
  },
  {
   "cell_type": "code",
   "execution_count": 120,
   "metadata": {
    "ExecuteTime": {
     "end_time": "2019-10-31T19:49:03.641903Z",
     "start_time": "2019-10-31T19:49:03.634291Z"
    }
   },
   "outputs": [],
   "source": [
    "patients.drop(columns=['patient_dob', 'appointment_date'], inplace=True)"
   ]
  },
  {
   "cell_type": "markdown",
   "metadata": {},
   "source": [
    "#### Our data is now ready for clustering. Let's use k-means again.\n",
    "\n",
    "We start by initializing and fitting a model in the cell below. Call this model patients_cluster."
   ]
  },
  {
   "cell_type": "code",
   "execution_count": 123,
   "metadata": {
    "ExecuteTime": {
     "end_time": "2019-10-31T19:49:43.097463Z",
     "start_time": "2019-10-31T19:49:43.093308Z"
    }
   },
   "outputs": [],
   "source": [
    "from sklearn.cluster import KMeans"
   ]
  },
  {
   "cell_type": "code",
   "execution_count": 131,
   "metadata": {
    "ExecuteTime": {
     "end_time": "2019-10-31T19:52:11.499799Z",
     "start_time": "2019-10-31T19:52:11.495093Z"
    }
   },
   "outputs": [],
   "source": [
    "patients_cluster = KMeans(n_clusters=4)"
   ]
  },
  {
   "cell_type": "code",
   "execution_count": 132,
   "metadata": {
    "ExecuteTime": {
     "end_time": "2019-10-31T19:52:11.896346Z",
     "start_time": "2019-10-31T19:52:11.836038Z"
    }
   },
   "outputs": [
    {
     "data": {
      "text/plain": [
       "KMeans(algorithm='auto', copy_x=True, init='k-means++', max_iter=300,\n",
       "       n_clusters=4, n_init=10, n_jobs=None, precompute_distances='auto',\n",
       "       random_state=None, tol=0.0001, verbose=0)"
      ]
     },
     "execution_count": 132,
     "metadata": {},
     "output_type": "execute_result"
    }
   ],
   "source": [
    "patients_cluster.fit(patients)"
   ]
  },
  {
   "cell_type": "markdown",
   "metadata": {},
   "source": [
    "Attach the labels to the dataframe. Do this by accessing the `labels_` in the `patients_cluster` model and assign them to a new column in `patients` that you will call `labels`."
   ]
  },
  {
   "cell_type": "code",
   "execution_count": 133,
   "metadata": {
    "ExecuteTime": {
     "end_time": "2019-10-31T19:52:12.848685Z",
     "start_time": "2019-10-31T19:52:12.843797Z"
    }
   },
   "outputs": [],
   "source": [
    "patients['labels'] = patients_cluster.labels_"
   ]
  },
  {
   "cell_type": "markdown",
   "metadata": {},
   "source": [
    "Now using a `groupby`, find the mean of every variable in `patients` and group by the `labels` column. This summary will allow us to see how the patients differ between the clusters. Your output should look similar to the image below.\n",
    "\n",
    "![groupby mean](../images/groupby-mean.png)\n",
    "\n",
    "Additionally, add a comment to describe which columns have the largest difference between clusters."
   ]
  },
  {
   "cell_type": "code",
   "execution_count": 134,
   "metadata": {
    "ExecuteTime": {
     "end_time": "2019-10-31T19:52:15.678362Z",
     "start_time": "2019-10-31T19:52:15.661152Z"
    }
   },
   "outputs": [
    {
     "data": {
      "text/html": [
       "<div>\n",
       "<style scoped>\n",
       "    .dataframe tbody tr th:only-of-type {\n",
       "        vertical-align: middle;\n",
       "    }\n",
       "\n",
       "    .dataframe tbody tr th {\n",
       "        vertical-align: top;\n",
       "    }\n",
       "\n",
       "    .dataframe thead th {\n",
       "        text-align: right;\n",
       "    }\n",
       "</style>\n",
       "<table border=\"1\" class=\"dataframe\">\n",
       "  <thead>\n",
       "    <tr style=\"text-align: right;\">\n",
       "      <th></th>\n",
       "      <th>patient_diabetic</th>\n",
       "      <th>patient_allergic</th>\n",
       "      <th>patient_weight_kg</th>\n",
       "      <th>patient_height_sm</th>\n",
       "      <th>patient_show</th>\n",
       "      <th>is_regular_visit</th>\n",
       "      <th>diagnosis_int</th>\n",
       "      <th>patient_gender_int</th>\n",
       "    </tr>\n",
       "    <tr>\n",
       "      <th>labels</th>\n",
       "      <th></th>\n",
       "      <th></th>\n",
       "      <th></th>\n",
       "      <th></th>\n",
       "      <th></th>\n",
       "      <th></th>\n",
       "      <th></th>\n",
       "      <th></th>\n",
       "    </tr>\n",
       "  </thead>\n",
       "  <tbody>\n",
       "    <tr>\n",
       "      <th>0</th>\n",
       "      <td>0.483871</td>\n",
       "      <td>0.483871</td>\n",
       "      <td>94.177419</td>\n",
       "      <td>178.806452</td>\n",
       "      <td>0.504032</td>\n",
       "      <td>0.528226</td>\n",
       "      <td>0.512097</td>\n",
       "      <td>0.544355</td>\n",
       "    </tr>\n",
       "    <tr>\n",
       "      <th>1</th>\n",
       "      <td>0.506494</td>\n",
       "      <td>0.493506</td>\n",
       "      <td>65.432900</td>\n",
       "      <td>152.354978</td>\n",
       "      <td>0.510823</td>\n",
       "      <td>0.558442</td>\n",
       "      <td>0.506494</td>\n",
       "      <td>0.445887</td>\n",
       "    </tr>\n",
       "    <tr>\n",
       "      <th>2</th>\n",
       "      <td>0.558559</td>\n",
       "      <td>0.527027</td>\n",
       "      <td>97.454955</td>\n",
       "      <td>153.481982</td>\n",
       "      <td>0.486486</td>\n",
       "      <td>0.504505</td>\n",
       "      <td>0.594595</td>\n",
       "      <td>0.481982</td>\n",
       "    </tr>\n",
       "    <tr>\n",
       "      <th>3</th>\n",
       "      <td>0.510373</td>\n",
       "      <td>0.535270</td>\n",
       "      <td>62.962656</td>\n",
       "      <td>177.004149</td>\n",
       "      <td>0.477178</td>\n",
       "      <td>0.497925</td>\n",
       "      <td>0.452282</td>\n",
       "      <td>0.543568</td>\n",
       "    </tr>\n",
       "  </tbody>\n",
       "</table>\n",
       "</div>"
      ],
      "text/plain": [
       "        patient_diabetic  patient_allergic  patient_weight_kg  \\\n",
       "labels                                                          \n",
       "0               0.483871          0.483871          94.177419   \n",
       "1               0.506494          0.493506          65.432900   \n",
       "2               0.558559          0.527027          97.454955   \n",
       "3               0.510373          0.535270          62.962656   \n",
       "\n",
       "        patient_height_sm  patient_show  is_regular_visit  diagnosis_int  \\\n",
       "labels                                                                     \n",
       "0              178.806452      0.504032          0.528226       0.512097   \n",
       "1              152.354978      0.510823          0.558442       0.506494   \n",
       "2              153.481982      0.486486          0.504505       0.594595   \n",
       "3              177.004149      0.477178          0.497925       0.452282   \n",
       "\n",
       "        patient_gender_int  \n",
       "labels                      \n",
       "0                 0.544355  \n",
       "1                 0.445887  \n",
       "2                 0.481982  \n",
       "3                 0.543568  "
      ]
     },
     "execution_count": 134,
     "metadata": {},
     "output_type": "execute_result"
    }
   ],
   "source": [
    "patients.groupby('labels').mean()"
   ]
  },
  {
   "cell_type": "code",
   "execution_count": 135,
   "metadata": {
    "ExecuteTime": {
     "end_time": "2019-10-31T19:53:00.832723Z",
     "start_time": "2019-10-31T19:53:00.828614Z"
    }
   },
   "outputs": [],
   "source": [
    "# Patient weight\n",
    "# Patient height"
   ]
  },
  {
   "cell_type": "markdown",
   "metadata": {},
   "source": [
    "# Bonus Challenge: Visualize K-Means Clusters\n",
    "\n",
    "How did k-means cluster the data? You can obtain an intuitive view with a scatter plot. Generate a 2-d cluster plot below using `matplotlib`. You need to choose 2 of the features from your cleaned and transformed dataset, and use color to represent the cluster label generated from k-means.\n",
    "\n",
    "If the scatter plot does not make any sense to you, it means the features you chose to visualize are not the right ones. You should be able to see 4 clear clusters with different colors in your visualization that suggests how k-means had clustered your data.\n",
    "\n",
    "![Cluster Visualization](../images/clusters.png)"
   ]
  },
  {
   "cell_type": "code",
   "execution_count": null,
   "metadata": {},
   "outputs": [],
   "source": [
    "# Your code here:\n"
   ]
  },
  {
   "cell_type": "markdown",
   "metadata": {},
   "source": [
    "Additionally, you can visualize the clusters in 3-D scatter plot. Give it a try below."
   ]
  },
  {
   "cell_type": "code",
   "execution_count": null,
   "metadata": {},
   "outputs": [],
   "source": [
    "# Your code here:\n"
   ]
  }
 ],
 "metadata": {
  "hide_input": false,
  "kernelspec": {
   "display_name": "Python 3",
   "language": "python",
   "name": "python3"
  },
  "language_info": {
   "codemirror_mode": {
    "name": "ipython",
    "version": 3
   },
   "file_extension": ".py",
   "mimetype": "text/x-python",
   "name": "python",
   "nbconvert_exporter": "python",
   "pygments_lexer": "ipython3",
   "version": "3.6.8"
  },
  "toc": {
   "base_numbering": 1,
   "nav_menu": {},
   "number_sections": true,
   "sideBar": true,
   "skip_h1_title": false,
   "title_cell": "Table of Contents",
   "title_sidebar": "Contents",
   "toc_cell": false,
   "toc_position": {},
   "toc_section_display": true,
   "toc_window_display": false
  },
  "varInspector": {
   "cols": {
    "lenName": 16,
    "lenType": 16,
    "lenVar": 40
   },
   "kernels_config": {
    "python": {
     "delete_cmd_postfix": "",
     "delete_cmd_prefix": "del ",
     "library": "var_list.py",
     "varRefreshCmd": "print(var_dic_list())"
    },
    "r": {
     "delete_cmd_postfix": ") ",
     "delete_cmd_prefix": "rm(",
     "library": "var_list.r",
     "varRefreshCmd": "cat(var_dic_list()) "
    }
   },
   "types_to_exclude": [
    "module",
    "function",
    "builtin_function_or_method",
    "instance",
    "_Feature"
   ],
   "window_display": false
  }
 },
 "nbformat": 4,
 "nbformat_minor": 2
}
